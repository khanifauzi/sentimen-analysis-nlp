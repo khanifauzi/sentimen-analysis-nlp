{
  "nbformat": 4,
  "nbformat_minor": 0,
  "metadata": {
    "colab": {
      "name": "h8dsft_Milestone2P2_KHANIF_FAUZI_PAMBUDI.ipynb",
      "provenance": [],
      "collapsed_sections": []
    },
    "kernelspec": {
      "name": "python3",
      "display_name": "Python 3"
    },
    "language_info": {
      "name": "python"
    }
  },
  "cells": [
    {
      "cell_type": "code",
      "metadata": {
        "id": "mPjpUltdFq82"
      },
      "source": [
        ""
      ],
      "execution_count": null,
      "outputs": []
    },
    {
      "cell_type": "markdown",
      "metadata": {
        "id": "RI4luoNCF16t"
      },
      "source": [
        "# **KHANIF FAUZI PAMBUDI (MILESTONE 2 PHASE 2)**"
      ]
    },
    {
      "cell_type": "markdown",
      "metadata": {
        "id": "ClHgHx7zF7XS"
      },
      "source": [
        "**ABOUT DATA**"
      ]
    },
    {
      "cell_type": "markdown",
      "metadata": {
        "id": "FRJ8Gs_UGEHa"
      },
      "source": [
        "The data used is sourced from Twitter from SXSW 2013, and contains tweets about the SXSW tech events and product announcements. Most of the tweets are about Apple and Google, and many mention specific products. The raw data can be found in the data folder in this repository.\n",
        "\n",
        "The data was manually labeled for classification, and contains the tweet text, the product or brand mentioned, and the sentiment as interpreted by the labeler."
      ]
    },
    {
      "cell_type": "markdown",
      "metadata": {
        "id": "z55MsQABGUAr"
      },
      "source": [
        "**GOALS**"
      ]
    },
    {
      "cell_type": "markdown",
      "metadata": {
        "id": "W4gVWVj-GWs9"
      },
      "source": [
        "The resulting model will be used to classify tweets from future tech conferences from Google and Apple, and analyze how sentiment for the brands has changed over time.\n",
        "\n",
        "I'll be evaluating my model based on accuracy score to understand how the model is performing holistically."
      ]
    },
    {
      "cell_type": "markdown",
      "metadata": {
        "id": "h151rTLXSfqm"
      },
      "source": [
        "# **INSTALLING LIBRARY**"
      ]
    },
    {
      "cell_type": "code",
      "metadata": {
        "id": "NSCb_LO1SmNW"
      },
      "source": [
        "# Adding external libraries\n",
        "!pip install -q keras\n",
        "!pip install -q h5py\n",
        "!pip install -q matplotlib\n",
        "!pip install -q nltk\n",
        "!pip install -q gensim"
      ],
      "execution_count": null,
      "outputs": []
    },
    {
      "cell_type": "markdown",
      "metadata": {
        "id": "4hjP9aYXGXBw"
      },
      "source": [
        "# **IMPORT LIBRARY**"
      ]
    },
    {
      "cell_type": "code",
      "metadata": {
        "id": "gHfjAEW8GgN6"
      },
      "source": [
        "import pandas as pd\n",
        "import numpy as np\n",
        "\n",
        "#visualization\n",
        "import matplotlib.pyplot as plt\n",
        "import seaborn as sns\n",
        "from wordcloud import WordCloud\n",
        "\n",
        "#text processing\n",
        "from sklearn.feature_extraction.text import CountVectorizer\n",
        "from sklearn.feature_extraction.text import TfidfVectorizer\n",
        "from sklearn.model_selection import train_test_split\n",
        "import re\n",
        "import nltk\n",
        "import string\n",
        "from nltk import word_tokenize, FreqDist\n",
        "from nltk.corpus import stopwords\n",
        "\n",
        "#NLP modeling\n",
        "from gensim.models import Word2Vec\n",
        "from keras.preprocessing.sequence import pad_sequences\n",
        "from keras.layers import Input, Dense, LSTM, Embedding\n",
        "from keras.layers import Dropout, Activation, Bidirectional, GlobalMaxPool1D\n",
        "from keras.models import Sequential\n",
        "from keras import initializers, regularizers, constraints, optimizers, layers\n",
        "from keras.preprocessing import text, sequence\n",
        "from tensorflow import keras\n",
        "from tensorflow.keras import layers\n",
        "from keras.callbacks import EarlyStopping, ModelCheckpoint\n",
        "\n",
        "import warnings\n",
        "warnings.filterwarnings('ignore')"
      ],
      "execution_count": null,
      "outputs": []
    },
    {
      "cell_type": "markdown",
      "metadata": {
        "id": "ykww85rkHLHg"
      },
      "source": [
        "# **DATA LOADING**"
      ]
    },
    {
      "cell_type": "code",
      "metadata": {
        "id": "EQPcLnmxHNYM"
      },
      "source": [
        "df = pd.read_csv('/content/judge-1377884607_tweet_product_company.csv', encoding = 'latin')"
      ],
      "execution_count": null,
      "outputs": []
    },
    {
      "cell_type": "code",
      "metadata": {
        "colab": {
          "base_uri": "https://localhost:8080/",
          "height": 289
        },
        "id": "etVyGrvxHuO5",
        "outputId": "22ebd0b6-3c18-4515-d4db-334cabd3d557"
      },
      "source": [
        "df.head()"
      ],
      "execution_count": null,
      "outputs": [
        {
          "output_type": "execute_result",
          "data": {
            "text/html": [
              "<div>\n",
              "<style scoped>\n",
              "    .dataframe tbody tr th:only-of-type {\n",
              "        vertical-align: middle;\n",
              "    }\n",
              "\n",
              "    .dataframe tbody tr th {\n",
              "        vertical-align: top;\n",
              "    }\n",
              "\n",
              "    .dataframe thead th {\n",
              "        text-align: right;\n",
              "    }\n",
              "</style>\n",
              "<table border=\"1\" class=\"dataframe\">\n",
              "  <thead>\n",
              "    <tr style=\"text-align: right;\">\n",
              "      <th></th>\n",
              "      <th>tweet_text</th>\n",
              "      <th>emotion_in_tweet_is_directed_at</th>\n",
              "      <th>is_there_an_emotion_directed_at_a_brand_or_product</th>\n",
              "    </tr>\n",
              "  </thead>\n",
              "  <tbody>\n",
              "    <tr>\n",
              "      <th>0</th>\n",
              "      <td>.@wesley83 I have a 3G iPhone. After 3 hrs twe...</td>\n",
              "      <td>iPhone</td>\n",
              "      <td>Negative emotion</td>\n",
              "    </tr>\n",
              "    <tr>\n",
              "      <th>1</th>\n",
              "      <td>@jessedee Know about @fludapp ? Awesome iPad/i...</td>\n",
              "      <td>iPad or iPhone App</td>\n",
              "      <td>Positive emotion</td>\n",
              "    </tr>\n",
              "    <tr>\n",
              "      <th>2</th>\n",
              "      <td>@swonderlin Can not wait for #iPad 2 also. The...</td>\n",
              "      <td>iPad</td>\n",
              "      <td>Positive emotion</td>\n",
              "    </tr>\n",
              "    <tr>\n",
              "      <th>3</th>\n",
              "      <td>@sxsw I hope this year's festival isn't as cra...</td>\n",
              "      <td>iPad or iPhone App</td>\n",
              "      <td>Negative emotion</td>\n",
              "    </tr>\n",
              "    <tr>\n",
              "      <th>4</th>\n",
              "      <td>@sxtxstate great stuff on Fri #SXSW: Marissa M...</td>\n",
              "      <td>Google</td>\n",
              "      <td>Positive emotion</td>\n",
              "    </tr>\n",
              "  </tbody>\n",
              "</table>\n",
              "</div>"
            ],
            "text/plain": [
              "                                          tweet_text  ... is_there_an_emotion_directed_at_a_brand_or_product\n",
              "0  .@wesley83 I have a 3G iPhone. After 3 hrs twe...  ...                                   Negative emotion\n",
              "1  @jessedee Know about @fludapp ? Awesome iPad/i...  ...                                   Positive emotion\n",
              "2  @swonderlin Can not wait for #iPad 2 also. The...  ...                                   Positive emotion\n",
              "3  @sxsw I hope this year's festival isn't as cra...  ...                                   Negative emotion\n",
              "4  @sxtxstate great stuff on Fri #SXSW: Marissa M...  ...                                   Positive emotion\n",
              "\n",
              "[5 rows x 3 columns]"
            ]
          },
          "metadata": {},
          "execution_count": 411
        }
      ]
    },
    {
      "cell_type": "code",
      "metadata": {
        "colab": {
          "base_uri": "https://localhost:8080/",
          "height": 241
        },
        "id": "ySRZydjfHwdy",
        "outputId": "287c7d26-a2d1-43c7-b2cb-9e2b22717ccb"
      },
      "source": [
        "df.tail()"
      ],
      "execution_count": null,
      "outputs": [
        {
          "output_type": "execute_result",
          "data": {
            "text/html": [
              "<div>\n",
              "<style scoped>\n",
              "    .dataframe tbody tr th:only-of-type {\n",
              "        vertical-align: middle;\n",
              "    }\n",
              "\n",
              "    .dataframe tbody tr th {\n",
              "        vertical-align: top;\n",
              "    }\n",
              "\n",
              "    .dataframe thead th {\n",
              "        text-align: right;\n",
              "    }\n",
              "</style>\n",
              "<table border=\"1\" class=\"dataframe\">\n",
              "  <thead>\n",
              "    <tr style=\"text-align: right;\">\n",
              "      <th></th>\n",
              "      <th>tweet_text</th>\n",
              "      <th>emotion_in_tweet_is_directed_at</th>\n",
              "      <th>is_there_an_emotion_directed_at_a_brand_or_product</th>\n",
              "    </tr>\n",
              "  </thead>\n",
              "  <tbody>\n",
              "    <tr>\n",
              "      <th>9088</th>\n",
              "      <td>Ipad everywhere. #SXSW {link}</td>\n",
              "      <td>iPad</td>\n",
              "      <td>Positive emotion</td>\n",
              "    </tr>\n",
              "    <tr>\n",
              "      <th>9089</th>\n",
              "      <td>Wave, buzz... RT @mention We interrupt your re...</td>\n",
              "      <td>NaN</td>\n",
              "      <td>No emotion toward brand or product</td>\n",
              "    </tr>\n",
              "    <tr>\n",
              "      <th>9090</th>\n",
              "      <td>Google's Zeiger, a physician never reported po...</td>\n",
              "      <td>NaN</td>\n",
              "      <td>No emotion toward brand or product</td>\n",
              "    </tr>\n",
              "    <tr>\n",
              "      <th>9091</th>\n",
              "      <td>Some Verizon iPhone customers complained their...</td>\n",
              "      <td>NaN</td>\n",
              "      <td>No emotion toward brand or product</td>\n",
              "    </tr>\n",
              "    <tr>\n",
              "      <th>9092</th>\n",
              "      <td>Ï¡Ïàü_ÊÎÒ£Áââ_£â_ÛâRT @...</td>\n",
              "      <td>NaN</td>\n",
              "      <td>No emotion toward brand or product</td>\n",
              "    </tr>\n",
              "  </tbody>\n",
              "</table>\n",
              "</div>"
            ],
            "text/plain": [
              "                                             tweet_text  ... is_there_an_emotion_directed_at_a_brand_or_product\n",
              "9088                      Ipad everywhere. #SXSW {link}  ...                                   Positive emotion\n",
              "9089  Wave, buzz... RT @mention We interrupt your re...  ...                 No emotion toward brand or product\n",
              "9090  Google's Zeiger, a physician never reported po...  ...                 No emotion toward brand or product\n",
              "9091  Some Verizon iPhone customers complained their...  ...                 No emotion toward brand or product\n",
              "9092  Ï¡Ïàü_ÊÎÒ£Áââ_£â_ÛâRT @...  ...                 No emotion toward brand or product\n",
              "\n",
              "[5 rows x 3 columns]"
            ]
          },
          "metadata": {},
          "execution_count": 412
        }
      ]
    },
    {
      "cell_type": "markdown",
      "metadata": {
        "id": "7JeM5rhzHy2E"
      },
      "source": [
        "# **DATA EXPLORATION**"
      ]
    },
    {
      "cell_type": "code",
      "metadata": {
        "colab": {
          "base_uri": "https://localhost:8080/"
        },
        "id": "DkuZ8Ib7H1Un",
        "outputId": "a7097f7f-11f7-431e-80bf-c052910206f9"
      },
      "source": [
        "df.info()"
      ],
      "execution_count": null,
      "outputs": [
        {
          "output_type": "stream",
          "name": "stdout",
          "text": [
            "<class 'pandas.core.frame.DataFrame'>\n",
            "RangeIndex: 9093 entries, 0 to 9092\n",
            "Data columns (total 3 columns):\n",
            " #   Column                                              Non-Null Count  Dtype \n",
            "---  ------                                              --------------  ----- \n",
            " 0   tweet_text                                          9092 non-null   object\n",
            " 1   emotion_in_tweet_is_directed_at                     3291 non-null   object\n",
            " 2   is_there_an_emotion_directed_at_a_brand_or_product  9093 non-null   object\n",
            "dtypes: object(3)\n",
            "memory usage: 213.2+ KB\n"
          ]
        }
      ]
    },
    {
      "cell_type": "code",
      "metadata": {
        "colab": {
          "base_uri": "https://localhost:8080/"
        },
        "id": "1dqKQKWAH7dn",
        "outputId": "bc8b58be-6378-45ff-e956-8e2b8c0c5289"
      },
      "source": [
        "df.shape"
      ],
      "execution_count": null,
      "outputs": [
        {
          "output_type": "execute_result",
          "data": {
            "text/plain": [
              "(9093, 3)"
            ]
          },
          "metadata": {},
          "execution_count": 414
        }
      ]
    },
    {
      "cell_type": "code",
      "metadata": {
        "colab": {
          "base_uri": "https://localhost:8080/"
        },
        "id": "PoRr_VEOIB0T",
        "outputId": "db8d6d59-d7cb-4d61-b501-a7f2bb72946e"
      },
      "source": [
        "df.columns"
      ],
      "execution_count": null,
      "outputs": [
        {
          "output_type": "execute_result",
          "data": {
            "text/plain": [
              "Index(['tweet_text', 'emotion_in_tweet_is_directed_at',\n",
              "       'is_there_an_emotion_directed_at_a_brand_or_product'],\n",
              "      dtype='object')"
            ]
          },
          "metadata": {},
          "execution_count": 415
        }
      ]
    },
    {
      "cell_type": "code",
      "metadata": {
        "colab": {
          "base_uri": "https://localhost:8080/",
          "height": 142
        },
        "id": "CuuiUttDKPpQ",
        "outputId": "ee222923-35e2-43e8-c500-a2323e746b3f"
      },
      "source": [
        "df.describe().T"
      ],
      "execution_count": null,
      "outputs": [
        {
          "output_type": "execute_result",
          "data": {
            "text/html": [
              "<div>\n",
              "<style scoped>\n",
              "    .dataframe tbody tr th:only-of-type {\n",
              "        vertical-align: middle;\n",
              "    }\n",
              "\n",
              "    .dataframe tbody tr th {\n",
              "        vertical-align: top;\n",
              "    }\n",
              "\n",
              "    .dataframe thead th {\n",
              "        text-align: right;\n",
              "    }\n",
              "</style>\n",
              "<table border=\"1\" class=\"dataframe\">\n",
              "  <thead>\n",
              "    <tr style=\"text-align: right;\">\n",
              "      <th></th>\n",
              "      <th>count</th>\n",
              "      <th>unique</th>\n",
              "      <th>top</th>\n",
              "      <th>freq</th>\n",
              "    </tr>\n",
              "  </thead>\n",
              "  <tbody>\n",
              "    <tr>\n",
              "      <th>tweet_text</th>\n",
              "      <td>9092</td>\n",
              "      <td>9065</td>\n",
              "      <td>RT @mention Marissa Mayer: Google Will Connect...</td>\n",
              "      <td>5</td>\n",
              "    </tr>\n",
              "    <tr>\n",
              "      <th>emotion_in_tweet_is_directed_at</th>\n",
              "      <td>3291</td>\n",
              "      <td>9</td>\n",
              "      <td>iPad</td>\n",
              "      <td>946</td>\n",
              "    </tr>\n",
              "    <tr>\n",
              "      <th>is_there_an_emotion_directed_at_a_brand_or_product</th>\n",
              "      <td>9093</td>\n",
              "      <td>4</td>\n",
              "      <td>No emotion toward brand or product</td>\n",
              "      <td>5389</td>\n",
              "    </tr>\n",
              "  </tbody>\n",
              "</table>\n",
              "</div>"
            ],
            "text/plain": [
              "                                                   count  ...  freq\n",
              "tweet_text                                          9092  ...     5\n",
              "emotion_in_tweet_is_directed_at                     3291  ...   946\n",
              "is_there_an_emotion_directed_at_a_brand_or_product  9093  ...  5389\n",
              "\n",
              "[3 rows x 4 columns]"
            ]
          },
          "metadata": {},
          "execution_count": 416
        }
      ]
    },
    {
      "cell_type": "code",
      "metadata": {
        "colab": {
          "base_uri": "https://localhost:8080/"
        },
        "id": "9pgWhQG-IEg0",
        "outputId": "7dbf1375-2d06-4187-fbc7-193016a72299"
      },
      "source": [
        "df.emotion_in_tweet_is_directed_at.value_counts()"
      ],
      "execution_count": null,
      "outputs": [
        {
          "output_type": "execute_result",
          "data": {
            "text/plain": [
              "iPad                               946\n",
              "Apple                              661\n",
              "iPad or iPhone App                 470\n",
              "Google                             430\n",
              "iPhone                             297\n",
              "Other Google product or service    293\n",
              "Android App                         81\n",
              "Android                             78\n",
              "Other Apple product or service      35\n",
              "Name: emotion_in_tweet_is_directed_at, dtype: int64"
            ]
          },
          "metadata": {},
          "execution_count": 417
        }
      ]
    },
    {
      "cell_type": "markdown",
      "metadata": {
        "id": "B-us20TW-ymP"
      },
      "source": [
        "**sentimen kelas**"
      ]
    },
    {
      "cell_type": "markdown",
      "metadata": {
        "id": "4ZwjF244-37_"
      },
      "source": [
        "Melihat sentimennya, sepertinya sebagian besar berlabel netral dan sebenarnya sangat sedikit tweet negatif. Saya berasumsi karena tweet dari pengumuman produk di SXSW, jadi suasananya terfokus pada kegembiraan atau berita seputar peluncuran produk baru."
      ]
    },
    {
      "cell_type": "code",
      "metadata": {
        "colab": {
          "base_uri": "https://localhost:8080/"
        },
        "id": "zkA5zkeuIQaP",
        "outputId": "89aa4065-f883-43b1-d971-434c602f6c1d"
      },
      "source": [
        "df.is_there_an_emotion_directed_at_a_brand_or_product.value_counts()"
      ],
      "execution_count": null,
      "outputs": [
        {
          "output_type": "execute_result",
          "data": {
            "text/plain": [
              "No emotion toward brand or product    5389\n",
              "Positive emotion                      2978\n",
              "Negative emotion                       570\n",
              "I can't tell                           156\n",
              "Name: is_there_an_emotion_directed_at_a_brand_or_product, dtype: int64"
            ]
          },
          "metadata": {},
          "execution_count": 418
        }
      ]
    },
    {
      "cell_type": "markdown",
      "metadata": {
        "id": "BMFPNm3o9kWW"
      },
      "source": [
        "**Mengecek kategori 'I can't tell'**"
      ]
    },
    {
      "cell_type": "markdown",
      "metadata": {
        "id": "N1ef6sy2_B-g"
      },
      "source": [
        "Melihat lebih dekat pada kategori 'I can't tell', saya melakukan hal ini karena saya ingin melihat apakah saya dapat mengelompokkannya dengan netral atau apakah saya harus mengabaikannya."
      ]
    },
    {
      "cell_type": "code",
      "metadata": {
        "colab": {
          "base_uri": "https://localhost:8080/",
          "height": 289
        },
        "id": "ZPsqB9jvI0_d",
        "outputId": "466a170f-c469-49f9-ed4e-10476db639c8"
      },
      "source": [
        "ct_df = df[df['is_there_an_emotion_directed_at_a_brand_or_product'] == 'I can\\'t tell']\n",
        "ct_df.head()"
      ],
      "execution_count": null,
      "outputs": [
        {
          "output_type": "execute_result",
          "data": {
            "text/html": [
              "<div>\n",
              "<style scoped>\n",
              "    .dataframe tbody tr th:only-of-type {\n",
              "        vertical-align: middle;\n",
              "    }\n",
              "\n",
              "    .dataframe tbody tr th {\n",
              "        vertical-align: top;\n",
              "    }\n",
              "\n",
              "    .dataframe thead th {\n",
              "        text-align: right;\n",
              "    }\n",
              "</style>\n",
              "<table border=\"1\" class=\"dataframe\">\n",
              "  <thead>\n",
              "    <tr style=\"text-align: right;\">\n",
              "      <th></th>\n",
              "      <th>tweet_text</th>\n",
              "      <th>emotion_in_tweet_is_directed_at</th>\n",
              "      <th>is_there_an_emotion_directed_at_a_brand_or_product</th>\n",
              "    </tr>\n",
              "  </thead>\n",
              "  <tbody>\n",
              "    <tr>\n",
              "      <th>90</th>\n",
              "      <td>Thanks to @mention for publishing the news of ...</td>\n",
              "      <td>NaN</td>\n",
              "      <td>I can't tell</td>\n",
              "    </tr>\n",
              "    <tr>\n",
              "      <th>102</th>\n",
              "      <td>ÛÏ@mention &amp;quot;Apple has opened a pop-up st...</td>\n",
              "      <td>NaN</td>\n",
              "      <td>I can't tell</td>\n",
              "    </tr>\n",
              "    <tr>\n",
              "      <th>237</th>\n",
              "      <td>Just what America needs. RT @mention Google to...</td>\n",
              "      <td>NaN</td>\n",
              "      <td>I can't tell</td>\n",
              "    </tr>\n",
              "    <tr>\n",
              "      <th>341</th>\n",
              "      <td>The queue at the Apple Store in Austin is FOUR...</td>\n",
              "      <td>NaN</td>\n",
              "      <td>I can't tell</td>\n",
              "    </tr>\n",
              "    <tr>\n",
              "      <th>368</th>\n",
              "      <td>Hope it's better than wave RT @mention Buzz is...</td>\n",
              "      <td>NaN</td>\n",
              "      <td>I can't tell</td>\n",
              "    </tr>\n",
              "  </tbody>\n",
              "</table>\n",
              "</div>"
            ],
            "text/plain": [
              "                                            tweet_text  ... is_there_an_emotion_directed_at_a_brand_or_product\n",
              "90   Thanks to @mention for publishing the news of ...  ...                                       I can't tell\n",
              "102  ÛÏ@mention &quot;Apple has opened a pop-up st...  ...                                       I can't tell\n",
              "237  Just what America needs. RT @mention Google to...  ...                                       I can't tell\n",
              "341  The queue at the Apple Store in Austin is FOUR...  ...                                       I can't tell\n",
              "368  Hope it's better than wave RT @mention Buzz is...  ...                                       I can't tell\n",
              "\n",
              "[5 rows x 3 columns]"
            ]
          },
          "metadata": {},
          "execution_count": 419
        }
      ]
    },
    {
      "cell_type": "markdown",
      "metadata": {
        "id": "-6bLc2t0-Ndj"
      },
      "source": [
        "Setelah data ditampilkan terlihat datanya campuran. Saya akan menghapus data tersebut karena saya rasa sudah ada lebih banyak kelas netral dan jika tidak dihapus maka hanya akan berkontribusi pada ketidakseimbangan kelas."
      ]
    },
    {
      "cell_type": "code",
      "metadata": {
        "id": "ml7Xx3HsKftt"
      },
      "source": [
        "df = df.drop([row for row in ct_df.index])"
      ],
      "execution_count": null,
      "outputs": []
    },
    {
      "cell_type": "markdown",
      "metadata": {
        "id": "-fDsQLAQ_Lzm"
      },
      "source": [
        "**Mengecek Kategori Netral**"
      ]
    },
    {
      "cell_type": "markdown",
      "metadata": {
        "id": "l_IkYM_Z_Ro8"
      },
      "source": [
        "Saya juga ingin melihat tweet netral dan terlihat cukup netral. Jadi saya akan membuat kolom pengklasifikasi baru untuk mengurutkannya menjadi: -1 untuk negatif dan 1 untuk positif. Netral akan menjadi default 0."
      ]
    },
    {
      "cell_type": "code",
      "metadata": {
        "colab": {
          "base_uri": "https://localhost:8080/",
          "height": 272
        },
        "id": "GYAgJDO8Kjyl",
        "outputId": "61ffcde9-db91-46c7-8887-6f446eb2dc66"
      },
      "source": [
        "ne_df = df[df['is_there_an_emotion_directed_at_a_brand_or_product'] == 'No emotion toward brand or product']\n",
        "ne_df.head()"
      ],
      "execution_count": null,
      "outputs": [
        {
          "output_type": "execute_result",
          "data": {
            "text/html": [
              "<div>\n",
              "<style scoped>\n",
              "    .dataframe tbody tr th:only-of-type {\n",
              "        vertical-align: middle;\n",
              "    }\n",
              "\n",
              "    .dataframe tbody tr th {\n",
              "        vertical-align: top;\n",
              "    }\n",
              "\n",
              "    .dataframe thead th {\n",
              "        text-align: right;\n",
              "    }\n",
              "</style>\n",
              "<table border=\"1\" class=\"dataframe\">\n",
              "  <thead>\n",
              "    <tr style=\"text-align: right;\">\n",
              "      <th></th>\n",
              "      <th>tweet_text</th>\n",
              "      <th>emotion_in_tweet_is_directed_at</th>\n",
              "      <th>is_there_an_emotion_directed_at_a_brand_or_product</th>\n",
              "    </tr>\n",
              "  </thead>\n",
              "  <tbody>\n",
              "    <tr>\n",
              "      <th>5</th>\n",
              "      <td>@teachntech00 New iPad Apps For #SpeechTherapy...</td>\n",
              "      <td>NaN</td>\n",
              "      <td>No emotion toward brand or product</td>\n",
              "    </tr>\n",
              "    <tr>\n",
              "      <th>6</th>\n",
              "      <td>NaN</td>\n",
              "      <td>NaN</td>\n",
              "      <td>No emotion toward brand or product</td>\n",
              "    </tr>\n",
              "    <tr>\n",
              "      <th>16</th>\n",
              "      <td>Holler Gram for iPad on the iTunes App Store -...</td>\n",
              "      <td>NaN</td>\n",
              "      <td>No emotion toward brand or product</td>\n",
              "    </tr>\n",
              "    <tr>\n",
              "      <th>32</th>\n",
              "      <td>Attn: All  #SXSW frineds, @mention Register fo...</td>\n",
              "      <td>NaN</td>\n",
              "      <td>No emotion toward brand or product</td>\n",
              "    </tr>\n",
              "    <tr>\n",
              "      <th>33</th>\n",
              "      <td>Anyone at  #sxsw want to sell their old iPad?</td>\n",
              "      <td>NaN</td>\n",
              "      <td>No emotion toward brand or product</td>\n",
              "    </tr>\n",
              "  </tbody>\n",
              "</table>\n",
              "</div>"
            ],
            "text/plain": [
              "                                           tweet_text  ... is_there_an_emotion_directed_at_a_brand_or_product\n",
              "5   @teachntech00 New iPad Apps For #SpeechTherapy...  ...                 No emotion toward brand or product\n",
              "6                                                 NaN  ...                 No emotion toward brand or product\n",
              "16  Holler Gram for iPad on the iTunes App Store -...  ...                 No emotion toward brand or product\n",
              "32  Attn: All  #SXSW frineds, @mention Register fo...  ...                 No emotion toward brand or product\n",
              "33      Anyone at  #sxsw want to sell their old iPad?  ...                 No emotion toward brand or product\n",
              "\n",
              "[5 rows x 3 columns]"
            ]
          },
          "metadata": {},
          "execution_count": 421
        }
      ]
    },
    {
      "cell_type": "markdown",
      "metadata": {
        "id": "16YQgyiFAZSg"
      },
      "source": [
        "Saya juga dapat melihat bahwa sebagian besar tweet netral juga tidak memiliki label produk yang terkait sehingga mereka benar-benar tidak memberikan banyak informasi. Pada akhirnya, saya ingin menyimpan tweet netral dalam data yang saya gunakan karena tanpa mereka, kumpulan data akan sangat sedikit."
      ]
    },
    {
      "cell_type": "markdown",
      "metadata": {
        "id": "TBndGN0K_fgQ"
      },
      "source": [
        "**Membuat kolom pengklasifikasian**"
      ]
    },
    {
      "cell_type": "code",
      "metadata": {
        "colab": {
          "base_uri": "https://localhost:8080/",
          "height": 337
        },
        "id": "mTe7wrseKxl5",
        "outputId": "55ec6bc7-cbf8-41e3-9bf4-0776e38794a1"
      },
      "source": [
        "df['class'] = 0\n",
        "for row in df.index:\n",
        "    if df['is_there_an_emotion_directed_at_a_brand_or_product'][row] == 'Positive emotion':\n",
        "        df['class'][row] = 1\n",
        "    elif df['is_there_an_emotion_directed_at_a_brand_or_product'][row] == 'Negative emotion':\n",
        "        df['class'][row] = -1\n",
        "        \n",
        "df.head(6)"
      ],
      "execution_count": null,
      "outputs": [
        {
          "output_type": "execute_result",
          "data": {
            "text/html": [
              "<div>\n",
              "<style scoped>\n",
              "    .dataframe tbody tr th:only-of-type {\n",
              "        vertical-align: middle;\n",
              "    }\n",
              "\n",
              "    .dataframe tbody tr th {\n",
              "        vertical-align: top;\n",
              "    }\n",
              "\n",
              "    .dataframe thead th {\n",
              "        text-align: right;\n",
              "    }\n",
              "</style>\n",
              "<table border=\"1\" class=\"dataframe\">\n",
              "  <thead>\n",
              "    <tr style=\"text-align: right;\">\n",
              "      <th></th>\n",
              "      <th>tweet_text</th>\n",
              "      <th>emotion_in_tweet_is_directed_at</th>\n",
              "      <th>is_there_an_emotion_directed_at_a_brand_or_product</th>\n",
              "      <th>class</th>\n",
              "    </tr>\n",
              "  </thead>\n",
              "  <tbody>\n",
              "    <tr>\n",
              "      <th>0</th>\n",
              "      <td>.@wesley83 I have a 3G iPhone. After 3 hrs twe...</td>\n",
              "      <td>iPhone</td>\n",
              "      <td>Negative emotion</td>\n",
              "      <td>-1</td>\n",
              "    </tr>\n",
              "    <tr>\n",
              "      <th>1</th>\n",
              "      <td>@jessedee Know about @fludapp ? Awesome iPad/i...</td>\n",
              "      <td>iPad or iPhone App</td>\n",
              "      <td>Positive emotion</td>\n",
              "      <td>1</td>\n",
              "    </tr>\n",
              "    <tr>\n",
              "      <th>2</th>\n",
              "      <td>@swonderlin Can not wait for #iPad 2 also. The...</td>\n",
              "      <td>iPad</td>\n",
              "      <td>Positive emotion</td>\n",
              "      <td>1</td>\n",
              "    </tr>\n",
              "    <tr>\n",
              "      <th>3</th>\n",
              "      <td>@sxsw I hope this year's festival isn't as cra...</td>\n",
              "      <td>iPad or iPhone App</td>\n",
              "      <td>Negative emotion</td>\n",
              "      <td>-1</td>\n",
              "    </tr>\n",
              "    <tr>\n",
              "      <th>4</th>\n",
              "      <td>@sxtxstate great stuff on Fri #SXSW: Marissa M...</td>\n",
              "      <td>Google</td>\n",
              "      <td>Positive emotion</td>\n",
              "      <td>1</td>\n",
              "    </tr>\n",
              "    <tr>\n",
              "      <th>5</th>\n",
              "      <td>@teachntech00 New iPad Apps For #SpeechTherapy...</td>\n",
              "      <td>NaN</td>\n",
              "      <td>No emotion toward brand or product</td>\n",
              "      <td>0</td>\n",
              "    </tr>\n",
              "  </tbody>\n",
              "</table>\n",
              "</div>"
            ],
            "text/plain": [
              "                                          tweet_text  ... class\n",
              "0  .@wesley83 I have a 3G iPhone. After 3 hrs twe...  ...    -1\n",
              "1  @jessedee Know about @fludapp ? Awesome iPad/i...  ...     1\n",
              "2  @swonderlin Can not wait for #iPad 2 also. The...  ...     1\n",
              "3  @sxsw I hope this year's festival isn't as cra...  ...    -1\n",
              "4  @sxtxstate great stuff on Fri #SXSW: Marissa M...  ...     1\n",
              "5  @teachntech00 New iPad Apps For #SpeechTherapy...  ...     0\n",
              "\n",
              "[6 rows x 4 columns]"
            ]
          },
          "metadata": {},
          "execution_count": 422
        }
      ]
    },
    {
      "cell_type": "markdown",
      "metadata": {
        "id": "yvCqkOYoI5_q"
      },
      "source": [
        "# **MISSING VALUE**"
      ]
    },
    {
      "cell_type": "markdown",
      "metadata": {
        "id": "2DeVbprO_z2x"
      },
      "source": [
        "mengecek apakah terdapat missing value atau tidak"
      ]
    },
    {
      "cell_type": "code",
      "metadata": {
        "colab": {
          "base_uri": "https://localhost:8080/"
        },
        "id": "FdPTBKxEI8L2",
        "outputId": "c311ba20-6551-4d76-b3e6-485a548d7635"
      },
      "source": [
        "df.isnull().sum()"
      ],
      "execution_count": null,
      "outputs": [
        {
          "output_type": "execute_result",
          "data": {
            "text/plain": [
              "tweet_text                                               1\n",
              "emotion_in_tweet_is_directed_at                       5655\n",
              "is_there_an_emotion_directed_at_a_brand_or_product       0\n",
              "class                                                    0\n",
              "dtype: int64"
            ]
          },
          "metadata": {},
          "execution_count": 423
        }
      ]
    },
    {
      "cell_type": "markdown",
      "metadata": {
        "id": "dA6JNSBx_4lY"
      },
      "source": [
        "setelah dicek ternyata ada 1 missing value pada kolom tweet_text dan ada 5655 missing value pada kolom emotion_in_tweet_is_directed_at\n",
        "\n",
        "\n",
        "\n"
      ]
    },
    {
      "cell_type": "markdown",
      "metadata": {
        "id": "VvlpbZoRAjE3"
      },
      "source": [
        "**Treatment terhadap missing value**"
      ]
    },
    {
      "cell_type": "code",
      "metadata": {
        "colab": {
          "base_uri": "https://localhost:8080/",
          "height": 272
        },
        "id": "xk-sAn7HJpUK",
        "outputId": "9cc6bc50-3e0c-4103-c17e-4a602b176e24"
      },
      "source": [
        "nulls_df = df[df['emotion_in_tweet_is_directed_at'].isna()]\n",
        "nulls_df.head()"
      ],
      "execution_count": null,
      "outputs": [
        {
          "output_type": "execute_result",
          "data": {
            "text/html": [
              "<div>\n",
              "<style scoped>\n",
              "    .dataframe tbody tr th:only-of-type {\n",
              "        vertical-align: middle;\n",
              "    }\n",
              "\n",
              "    .dataframe tbody tr th {\n",
              "        vertical-align: top;\n",
              "    }\n",
              "\n",
              "    .dataframe thead th {\n",
              "        text-align: right;\n",
              "    }\n",
              "</style>\n",
              "<table border=\"1\" class=\"dataframe\">\n",
              "  <thead>\n",
              "    <tr style=\"text-align: right;\">\n",
              "      <th></th>\n",
              "      <th>tweet_text</th>\n",
              "      <th>emotion_in_tweet_is_directed_at</th>\n",
              "      <th>is_there_an_emotion_directed_at_a_brand_or_product</th>\n",
              "      <th>class</th>\n",
              "    </tr>\n",
              "  </thead>\n",
              "  <tbody>\n",
              "    <tr>\n",
              "      <th>5</th>\n",
              "      <td>@teachntech00 New iPad Apps For #SpeechTherapy...</td>\n",
              "      <td>NaN</td>\n",
              "      <td>No emotion toward brand or product</td>\n",
              "      <td>0</td>\n",
              "    </tr>\n",
              "    <tr>\n",
              "      <th>6</th>\n",
              "      <td>NaN</td>\n",
              "      <td>NaN</td>\n",
              "      <td>No emotion toward brand or product</td>\n",
              "      <td>0</td>\n",
              "    </tr>\n",
              "    <tr>\n",
              "      <th>16</th>\n",
              "      <td>Holler Gram for iPad on the iTunes App Store -...</td>\n",
              "      <td>NaN</td>\n",
              "      <td>No emotion toward brand or product</td>\n",
              "      <td>0</td>\n",
              "    </tr>\n",
              "    <tr>\n",
              "      <th>32</th>\n",
              "      <td>Attn: All  #SXSW frineds, @mention Register fo...</td>\n",
              "      <td>NaN</td>\n",
              "      <td>No emotion toward brand or product</td>\n",
              "      <td>0</td>\n",
              "    </tr>\n",
              "    <tr>\n",
              "      <th>33</th>\n",
              "      <td>Anyone at  #sxsw want to sell their old iPad?</td>\n",
              "      <td>NaN</td>\n",
              "      <td>No emotion toward brand or product</td>\n",
              "      <td>0</td>\n",
              "    </tr>\n",
              "  </tbody>\n",
              "</table>\n",
              "</div>"
            ],
            "text/plain": [
              "                                           tweet_text  ... class\n",
              "5   @teachntech00 New iPad Apps For #SpeechTherapy...  ...     0\n",
              "6                                                 NaN  ...     0\n",
              "16  Holler Gram for iPad on the iTunes App Store -...  ...     0\n",
              "32  Attn: All  #SXSW frineds, @mention Register fo...  ...     0\n",
              "33      Anyone at  #sxsw want to sell their old iPad?  ...     0\n",
              "\n",
              "[5 rows x 4 columns]"
            ]
          },
          "metadata": {},
          "execution_count": 424
        }
      ]
    },
    {
      "cell_type": "code",
      "metadata": {
        "colab": {
          "base_uri": "https://localhost:8080/",
          "height": 80
        },
        "id": "edfUzepVRGup",
        "outputId": "16b3d3b4-e0e1-40dd-e399-c231a64c890b"
      },
      "source": [
        "nulls_df1 = df[df['tweet_text'].isna()]\n",
        "nulls_df1.head()"
      ],
      "execution_count": null,
      "outputs": [
        {
          "output_type": "execute_result",
          "data": {
            "text/html": [
              "<div>\n",
              "<style scoped>\n",
              "    .dataframe tbody tr th:only-of-type {\n",
              "        vertical-align: middle;\n",
              "    }\n",
              "\n",
              "    .dataframe tbody tr th {\n",
              "        vertical-align: top;\n",
              "    }\n",
              "\n",
              "    .dataframe thead th {\n",
              "        text-align: right;\n",
              "    }\n",
              "</style>\n",
              "<table border=\"1\" class=\"dataframe\">\n",
              "  <thead>\n",
              "    <tr style=\"text-align: right;\">\n",
              "      <th></th>\n",
              "      <th>tweet_text</th>\n",
              "      <th>emotion_in_tweet_is_directed_at</th>\n",
              "      <th>is_there_an_emotion_directed_at_a_brand_or_product</th>\n",
              "      <th>class</th>\n",
              "    </tr>\n",
              "  </thead>\n",
              "  <tbody>\n",
              "    <tr>\n",
              "      <th>6</th>\n",
              "      <td>NaN</td>\n",
              "      <td>NaN</td>\n",
              "      <td>No emotion toward brand or product</td>\n",
              "      <td>0</td>\n",
              "    </tr>\n",
              "  </tbody>\n",
              "</table>\n",
              "</div>"
            ],
            "text/plain": [
              "  tweet_text  ... class\n",
              "6        NaN  ...     0\n",
              "\n",
              "[1 rows x 4 columns]"
            ]
          },
          "metadata": {},
          "execution_count": 425
        }
      ]
    },
    {
      "cell_type": "markdown",
      "metadata": {
        "id": "2l48VHDpArm_"
      },
      "source": [
        "**Mengisi kolom yang terdapat missing value dengan sebuah nilai**"
      ]
    },
    {
      "cell_type": "code",
      "metadata": {
        "id": "-vdKoTl2RQUi"
      },
      "source": [
        "df['tweet_text'] = df['tweet_text'].fillna('lorem ipsum dolor sit amet')"
      ],
      "execution_count": null,
      "outputs": []
    },
    {
      "cell_type": "code",
      "metadata": {
        "id": "mhrsZSTXJ7Jz"
      },
      "source": [
        "df['emotion_in_tweet_is_directed_at'] = df['emotion_in_tweet_is_directed_at'].fillna('unspecified')"
      ],
      "execution_count": null,
      "outputs": []
    },
    {
      "cell_type": "markdown",
      "metadata": {
        "id": "qBL8AcC8BPBc"
      },
      "source": [
        "setelah diisi dengan value maka dicek kembali apakah sudah terisi semua value nya atau belum"
      ]
    },
    {
      "cell_type": "code",
      "metadata": {
        "colab": {
          "base_uri": "https://localhost:8080/"
        },
        "id": "VGIWPQPQRAws",
        "outputId": "ad5fa0f8-6265-4747-cdcd-c1e7d7687bc7"
      },
      "source": [
        "df.isnull().sum()"
      ],
      "execution_count": null,
      "outputs": [
        {
          "output_type": "execute_result",
          "data": {
            "text/plain": [
              "tweet_text                                            0\n",
              "emotion_in_tweet_is_directed_at                       0\n",
              "is_there_an_emotion_directed_at_a_brand_or_product    0\n",
              "class                                                 0\n",
              "dtype: int64"
            ]
          },
          "metadata": {},
          "execution_count": 428
        }
      ]
    },
    {
      "cell_type": "markdown",
      "metadata": {
        "id": "rfxZPKCiBgzU"
      },
      "source": [
        "setelah dilakukan treatment missing value maka semua kolom sudah terisi dengan nilai"
      ]
    },
    {
      "cell_type": "markdown",
      "metadata": {
        "id": "SP3lI7dYBoGb"
      },
      "source": [
        "**Membuat kolom brand untuk re-kategori**"
      ]
    },
    {
      "cell_type": "markdown",
      "metadata": {
        "id": "O7-B2VRKBvNU"
      },
      "source": [
        "Untuk memvisualisasikan bagaimana sentimen berbeda menurut merek dalam kumpulan data ini, saya akan mengumpulkan datanya secara visual. Pertama, saya perlu mengisi value NA. Kemudian agar terlihat lebih bersih, saya akan mengurutkan semua sub produk menjadi hanya Google atau Apple."
      ]
    },
    {
      "cell_type": "code",
      "metadata": {
        "id": "D4TIzB_FJ_Xh"
      },
      "source": [
        "# creating a new column to recategorize\n",
        "\n",
        "df['Brand Mentioned'] = df['emotion_in_tweet_is_directed_at']\n",
        "\n",
        "#replacing all subproducts with their parent brand\n",
        "for row in df.index:\n",
        "    if df['Brand Mentioned'][row] == 'Android':\n",
        "        df['Brand Mentioned'][row] = 'Google'\n",
        "    elif df['Brand Mentioned'][row] == 'Other Google product or service':\n",
        "        df['Brand Mentioned'][row] = 'Google'\n",
        "    elif df['Brand Mentioned'][row] == 'Android App':\n",
        "        df['Brand Mentioned'][row] = 'Google'\n",
        "        \n",
        "    elif df['Brand Mentioned'][row] == 'iPad or Apple App':\n",
        "        df['Brand Mentioned'][row] = 'Apple'\n",
        "    elif df['Brand Mentioned'][row] == 'iPad or iPhone App':\n",
        "        df['Brand Mentioned'][row] = 'Apple'\n",
        "    elif df['Brand Mentioned'][row] == 'iPad':\n",
        "        df['Brand Mentioned'][row] = 'Apple'\n",
        "    elif df['Brand Mentioned'][row] == 'iPhone':\n",
        "        df['Brand Mentioned'][row] = 'Apple'\n",
        "    elif df['Brand Mentioned'][row] == 'Other Apple product or service':\n",
        "        df['Brand Mentioned'][row] = 'Apple'"
      ],
      "execution_count": null,
      "outputs": []
    },
    {
      "cell_type": "code",
      "metadata": {
        "id": "7MF6W2quLo7J"
      },
      "source": [
        "#using a groupby to grab the product and sentiment\n",
        "group = df.groupby(['class', 'Brand Mentioned']).count()[\n",
        "    'is_there_an_emotion_directed_at_a_brand_or_product']"
      ],
      "execution_count": null,
      "outputs": []
    },
    {
      "cell_type": "code",
      "metadata": {
        "colab": {
          "base_uri": "https://localhost:8080/",
          "height": 329
        },
        "id": "3hYios2sLxxR",
        "outputId": "03b2deab-4f81-4a0d-d3d7-53486354fbbb"
      },
      "source": [
        "plt.figure(figsize=(25, 15))\n",
        "fig = group.unstack().plot(kind='bar', stacked=True, align=\"center\")\n",
        "\n",
        "fig.set_title('Sentiment by Product')\n",
        "\n",
        "fig.set_xlabel('Sentiment')\n",
        "fig.set_ylabel('Occurrences by Brand')"
      ],
      "execution_count": null,
      "outputs": [
        {
          "output_type": "execute_result",
          "data": {
            "text/plain": [
              "Text(0, 0.5, 'Occurrences by Brand')"
            ]
          },
          "metadata": {},
          "execution_count": 431
        },
        {
          "output_type": "display_data",
          "data": {
            "text/plain": [
              "<Figure size 1800x1080 with 0 Axes>"
            ]
          },
          "metadata": {}
        },
        {
          "output_type": "display_data",
          "data": {
            "image/png": "[encoded data removed]",
            "text/plain": [
              "<Figure size 432x288 with 1 Axes>"
            ]
          },
          "metadata": {
            "needs_background": "light"
          }
        }
      ]
    },
    {
      "cell_type": "markdown",
      "metadata": {
        "id": "DucASw8lCFMq"
      },
      "source": [
        "Seperti yang bisa kita lihat, sebagian besar tweet netral tidak dilabeli oleh produk. Dari sisi negatif dan positifnya, mayoritas tentang produk Apple. Grafik menunjukkan bahwa sentimen tidak selalu berbeda untuk setiap merek, tetapi percakapan secara keseluruhan cenderung lebih banyak tentang Apple."
      ]
    },
    {
      "cell_type": "markdown",
      "metadata": {
        "id": "SHlmyxIJIwtX"
      },
      "source": [
        "# **EDA**"
      ]
    },
    {
      "cell_type": "markdown",
      "metadata": {
        "id": "zLYWLZ8XCOvt"
      },
      "source": [
        "berikut ini adalah grafik persebaran sentimen pada dataset"
      ]
    },
    {
      "cell_type": "code",
      "metadata": {
        "colab": {
          "base_uri": "https://localhost:8080/",
          "height": 364
        },
        "id": "m5EaQj-JMGtb",
        "outputId": "44477914-7da8-4f32-bd1a-83232cee44ee"
      },
      "source": [
        "plt.figure (figsize=(7,5))\n",
        "ax = sns.countplot(x = 'class', hue = 'class', data = df, palette = 'magma')\n",
        "plt.title('Sentiment Distribution')\n",
        "plt.xlabel('Sentiment')\n",
        "plt.ylabel('Count')\n",
        "plt.xticks([-1, 1, 0], ['Negative', 'Positive', 'Neutral'], rotation=20)\n",
        "ax.get_legend().remove()\n",
        "\n",
        "plt.show()"
      ],
      "execution_count": null,
      "outputs": [
        {
          "output_type": "display_data",
          "data": {
            "image/png": "[encoded data removed]",
            "text/plain": [
              "<Figure size 504x360 with 1 Axes>"
            ]
          },
          "metadata": {
            "needs_background": "light"
          }
        }
      ]
    },
    {
      "cell_type": "markdown",
      "metadata": {
        "id": "gZj4VGe9CW5-"
      },
      "source": [
        "dapat dilihat pada grafik bahwa sentimen netral memiliki dominasi terhadap persebaran sentimen"
      ]
    },
    {
      "cell_type": "markdown",
      "metadata": {
        "id": "vDA-ukpgChxC"
      },
      "source": [
        "**Persebaran sentimen terhadap emotion pada tweet**\n",
        "\n"
      ]
    },
    {
      "cell_type": "markdown",
      "metadata": {
        "id": "mVRElSl6Czg1"
      },
      "source": [
        "**Sentimen negatif**"
      ]
    },
    {
      "cell_type": "code",
      "metadata": {
        "id": "GwteCYnwMjVx"
      },
      "source": [
        "negative = df[df['class'] == -1 ].groupby('emotion_in_tweet_is_directed_at').count()\n",
        "negative = negative.drop(columns=['tweet_text', 'is_there_an_emotion_directed_at_a_brand_or_product'])"
      ],
      "execution_count": null,
      "outputs": []
    },
    {
      "cell_type": "code",
      "metadata": {
        "colab": {
          "base_uri": "https://localhost:8080/",
          "height": 447
        },
        "id": "UbMWOFxhM_S3",
        "outputId": "1b43b160-2a38-45f0-931f-0c2baac7e04e"
      },
      "source": [
        "negative.plot(kind='bar', stacked=True)"
      ],
      "execution_count": null,
      "outputs": [
        {
          "output_type": "execute_result",
          "data": {
            "text/plain": [
              "<matplotlib.axes._subplots.AxesSubplot at 0x7f5a8489c710>"
            ]
          },
          "metadata": {},
          "execution_count": 434
        },
        {
          "output_type": "display_data",
          "data": {
            "image/png": "[encoded data removed]",
            "text/plain": [
              "<Figure size 432x288 with 1 Axes>"
            ]
          },
          "metadata": {
            "needs_background": "light"
          }
        }
      ]
    },
    {
      "cell_type": "markdown",
      "metadata": {
        "id": "_d3bhvRWC4p2"
      },
      "source": [
        "**Sentimen Positif**"
      ]
    },
    {
      "cell_type": "code",
      "metadata": {
        "id": "YNtIG_FXNYMy"
      },
      "source": [
        "positive = df[df['class'] == 1].groupby('emotion_in_tweet_is_directed_at').count()\n",
        "positive = positive.drop(columns=['tweet_text', 'is_there_an_emotion_directed_at_a_brand_or_product'])"
      ],
      "execution_count": null,
      "outputs": []
    },
    {
      "cell_type": "code",
      "metadata": {
        "colab": {
          "base_uri": "https://localhost:8080/",
          "height": 447
        },
        "id": "I_6revVXNy6o",
        "outputId": "0c4da9a3-0171-49b8-cce7-ee8f84fe0cfc"
      },
      "source": [
        "positive.plot(kind='bar', stacked=True)"
      ],
      "execution_count": null,
      "outputs": [
        {
          "output_type": "execute_result",
          "data": {
            "text/plain": [
              "<matplotlib.axes._subplots.AxesSubplot at 0x7f5a84751d10>"
            ]
          },
          "metadata": {},
          "execution_count": 436
        },
        {
          "output_type": "display_data",
          "data": {
            "image/png": "[encoded data removed]",
            "text/plain": [
              "<Figure size 432x288 with 1 Axes>"
            ]
          },
          "metadata": {
            "needs_background": "light"
          }
        }
      ]
    },
    {
      "cell_type": "markdown",
      "metadata": {
        "id": "3ksPUTx5C8MJ"
      },
      "source": [
        "**Sentimen Netral**"
      ]
    },
    {
      "cell_type": "code",
      "metadata": {
        "id": "fsHFyjKKOctW"
      },
      "source": [
        "neutral = df[df['class'] == 0].groupby('emotion_in_tweet_is_directed_at').count()\n",
        "neutral = neutral.drop(columns=['tweet_text', 'is_there_an_emotion_directed_at_a_brand_or_product'])"
      ],
      "execution_count": null,
      "outputs": []
    },
    {
      "cell_type": "code",
      "metadata": {
        "colab": {
          "base_uri": "https://localhost:8080/",
          "height": 447
        },
        "id": "CVBwVyQxO1jB",
        "outputId": "65184c9a-dc46-4cee-ef5c-f31f234ca82f"
      },
      "source": [
        "positive.plot(kind='bar', stacked=True)"
      ],
      "execution_count": null,
      "outputs": [
        {
          "output_type": "execute_result",
          "data": {
            "text/plain": [
              "<matplotlib.axes._subplots.AxesSubplot at 0x7f5a84689c50>"
            ]
          },
          "metadata": {},
          "execution_count": 438
        },
        {
          "output_type": "display_data",
          "data": {
            "image/png": "[encoded data removed]",
            "text/plain": [
              "<Figure size 432x288 with 1 Axes>"
            ]
          },
          "metadata": {
            "needs_background": "light"
          }
        }
      ]
    },
    {
      "cell_type": "markdown",
      "metadata": {
        "id": "2UFq_y-6DAiV"
      },
      "source": [
        "# **EDA ANALYSIS**"
      ]
    },
    {
      "cell_type": "markdown",
      "metadata": {
        "id": "bcMysIntDDEK"
      },
      "source": [
        "\n",
        "\n",
        "*   Dari persebaran data terhadap sentimen, sentimen yang bernilai netral memiliki dominasi terhadap sentimen pada dataset\n",
        "*   Untuk sentimen yang bernilai negatif merek yang paling sering disebut adalah ipad, diikuti dengan apple dan google\n",
        "\n",
        "*   Untuk sentimen yang bernilai positif merek yang paling sering disebut adalah ipad juga dan diikuti dengan apple lalu google\n",
        "*   Dari hasil sentimen negatif dan positif dapat dilihat bahwa merek yang sering disebut dikedua sentimen sama ini dapat dijadikan hipotesa bahwa terdapat pro dan kontra terhadap merek-merek tersebut\n",
        "\n",
        "*   Untuk sentimen yang bernilai netral pun juga sama bahwa merek yang sering disebut adalah ipad, apple, lalu google\n",
        "\n",
        "\n",
        "\n",
        "\n",
        "\n"
      ]
    },
    {
      "cell_type": "markdown",
      "metadata": {
        "id": "sJz-YArpO6oc"
      },
      "source": [
        "# **DATA PREPROCESSING**"
      ]
    },
    {
      "cell_type": "markdown",
      "metadata": {
        "id": "R-65PttCEdFT"
      },
      "source": [
        "Untuk memproses data saya akan membuat kolom baru untuk teks yang akan diproses. Langkah pertama yang akan saya ambil adalah menghapus karakter-karakter yang tidak perlu menggunakan regular expression, karena karakter tersebut bukan konten aktual."
      ]
    },
    {
      "cell_type": "code",
      "metadata": {
        "id": "leb6puQZO96X"
      },
      "source": [
        "df['clean_tweet'] = [re.sub(r'(http://[^\"\\s]+)|(@\\w+)', '', tweet) for tweet in df['tweet_text']]"
      ],
      "execution_count": null,
      "outputs": []
    },
    {
      "cell_type": "code",
      "metadata": {
        "colab": {
          "base_uri": "https://localhost:8080/"
        },
        "id": "ayhYMazeRrYg",
        "outputId": "934e241b-66db-4570-df93-3233fb2b44a2"
      },
      "source": [
        "print(df.iloc[12][0])\n",
        "print(df.iloc[12][4])"
      ],
      "execution_count": null,
      "outputs": [
        {
          "output_type": "stream",
          "name": "stdout",
          "text": [
            "Foursquare ups the game, just in time for #SXSW http://j.mp/grN7pK) - Still prefer @Gowalla by far, best looking Android app to date.\n",
            "Google\n"
          ]
        }
      ]
    },
    {
      "cell_type": "markdown",
      "metadata": {
        "id": "PrzvUiKvFIEW"
      },
      "source": [
        "**Stopwords**"
      ]
    },
    {
      "cell_type": "markdown",
      "metadata": {
        "id": "4EsLDIDCFLJl"
      },
      "source": [
        "Sekarang, saya dapat menyusun daftar stopwords dari NLTK sehingga saya dapat menghapus semua kata dalam teks yang sebenarnya tidak mengandung informasi apa pun. Selain itu saya akan menghapus tanda baca ketika tweet diberi token, sehingga tagar dapat dibaca sebagai kata-kata."
      ]
    },
    {
      "cell_type": "code",
      "metadata": {
        "colab": {
          "base_uri": "https://localhost:8080/"
        },
        "id": "YhLVFCH1TATV",
        "outputId": "540725f6-63e4-409c-99da-555e5170c7e8"
      },
      "source": [
        "import nltk\n",
        "nltk.download('stopwords')"
      ],
      "execution_count": null,
      "outputs": [
        {
          "output_type": "stream",
          "name": "stdout",
          "text": [
            "[nltk_data] Downloading package stopwords to /root/nltk_data...\n",
            "[nltk_data]   Package stopwords is already up-to-date!\n"
          ]
        },
        {
          "output_type": "execute_result",
          "data": {
            "text/plain": [
              "True"
            ]
          },
          "metadata": {},
          "execution_count": 441
        }
      ]
    },
    {
      "cell_type": "code",
      "metadata": {
        "id": "jYqSwPtyR1uE"
      },
      "source": [
        "stopwords_list = stopwords.words('english')\n",
        "stopwords_list += string.punctuation\n",
        "punct_list = [\"''\", '\"\"', '...', '``']\n",
        "stopwords_list += punct_list"
      ],
      "execution_count": null,
      "outputs": []
    },
    {
      "cell_type": "code",
      "metadata": {
        "colab": {
          "base_uri": "https://localhost:8080/"
        },
        "id": "V65GCfMfTQrC",
        "outputId": "58701584-f867-4cc2-8f56-79eb9cb706c1"
      },
      "source": [
        "import nltk\n",
        "nltk.download('punkt')"
      ],
      "execution_count": null,
      "outputs": [
        {
          "output_type": "stream",
          "name": "stdout",
          "text": [
            "[nltk_data] Downloading package punkt to /root/nltk_data...\n",
            "[nltk_data]   Package punkt is already up-to-date!\n"
          ]
        },
        {
          "output_type": "execute_result",
          "data": {
            "text/plain": [
              "True"
            ]
          },
          "metadata": {},
          "execution_count": 443
        }
      ]
    },
    {
      "cell_type": "markdown",
      "metadata": {
        "id": "dEjQKkEGFqkB"
      },
      "source": [
        "**Memproses tweet**"
      ]
    },
    {
      "cell_type": "markdown",
      "metadata": {
        "id": "mRZ6xtwYFt8_"
      },
      "source": [
        "Sebelum membuat model, saya akan melihat data saat dilakukan tokenisasi. Saya dapat melihat bahwa tanda baca telah dihapus dan setiap tweet telah berubah menjadi daftar kata-kata yang informatif"
      ]
    },
    {
      "cell_type": "code",
      "metadata": {
        "colab": {
          "base_uri": "https://localhost:8080/"
        },
        "id": "SrcYtwVuTEOl",
        "outputId": "6c838150-33f0-451a-fa2c-732e1a83a93f"
      },
      "source": [
        "# this function will lowercase everything and remove stopwords and punctuation\n",
        "\n",
        "def process_tweet(tweet):\n",
        "    tokens = nltk.word_tokenize(tweet)\n",
        "    words_lower = [token.lower() for token in tokens]\n",
        "    words_stopped = [word for word in words_lower if word not in stopwords_list]\n",
        "    return words_stopped\n",
        "\n",
        "#previewing the results\n",
        "processed_data = list(map(process_tweet, df['clean_tweet']))\n",
        "\n",
        "processed_data[0]"
      ],
      "execution_count": null,
      "outputs": [
        {
          "output_type": "execute_result",
          "data": {
            "text/plain": [
              "['3g',\n",
              " 'iphone',\n",
              " '3',\n",
              " 'hrs',\n",
              " 'tweeting',\n",
              " 'rise_austin',\n",
              " 'dead',\n",
              " 'need',\n",
              " 'upgrade',\n",
              " 'plugin',\n",
              " 'stations',\n",
              " 'sxsw']"
            ]
          },
          "metadata": {},
          "execution_count": 444
        }
      ]
    },
    {
      "cell_type": "code",
      "metadata": {
        "colab": {
          "base_uri": "https://localhost:8080/"
        },
        "id": "DeIfQUpqTXR6",
        "outputId": "f9f60e48-baf0-4b0a-b990-f2335af96200"
      },
      "source": [
        "#creating a list of unique words in the data set\n",
        "\n",
        "total_vocab = set()\n",
        "for token in processed_data:\n",
        "    total_vocab.update(token)\n",
        "    \n",
        "print(len(total_vocab))"
      ],
      "execution_count": null,
      "outputs": [
        {
          "output_type": "stream",
          "name": "stdout",
          "text": [
            "10455\n"
          ]
        }
      ]
    },
    {
      "cell_type": "markdown",
      "metadata": {
        "id": "v7LswvusGN63"
      },
      "source": [
        "Pada step ini dengan stopwords maka  dihasilkan 10.455 kata unik."
      ]
    },
    {
      "cell_type": "markdown",
      "metadata": {
        "id": "As1-4uKeGg3p"
      },
      "source": [
        "**Melakukan compile frequency dictionary**"
      ]
    },
    {
      "cell_type": "markdown",
      "metadata": {
        "id": "NiIV-stqGo_d"
      },
      "source": [
        "Saya akan membuat frequency dictionary untuk melihat kata-kata yang paling sering muncul. Beberapa yang paling sering adalah kata umum Twitter - 'rt', 'link'. Namun banyak yang mengacu pada suatu produk dan acara."
      ]
    },
    {
      "cell_type": "code",
      "metadata": {
        "colab": {
          "base_uri": "https://localhost:8080/"
        },
        "id": "GVyOGtVoTfxK",
        "outputId": "84b301c3-86fa-4514-90c2-caad0593ae9c"
      },
      "source": [
        "tweet_concat = []\n",
        "for tweet in processed_data:\n",
        "    tweet_concat += tweet\n",
        "    \n",
        "tweet_freqdist = FreqDist(tweet_concat)\n",
        "tweet_freqdist.most_common(2000)"
      ],
      "execution_count": null,
      "outputs": [
        {
          "output_type": "execute_result",
          "data": {
            "text/plain": [
              "[('sxsw', 9352),\n",
              " ('link', 4265),\n",
              " ('rt', 2926),\n",
              " ('google', 2543),\n",
              " ('ipad', 2402),\n",
              " ('apple', 2267),\n",
              " ('quot', 1657),\n",
              " ('iphone', 1497),\n",
              " ('store', 1455),\n",
              " (\"'s\", 1218),\n",
              " ('2', 1104),\n",
              " ('new', 1078),\n",
              " ('austin', 948),\n",
              " ('amp', 834),\n",
              " ('app', 811),\n",
              " ('launch', 647),\n",
              " ('social', 636),\n",
              " ('circles', 634),\n",
              " ('android', 572),\n",
              " ('today', 572),\n",
              " (\"n't\", 467),\n",
              " ('network', 458),\n",
              " ('ipad2', 455),\n",
              " ('pop-up', 411),\n",
              " ('via', 405),\n",
              " ('line', 393),\n",
              " ('free', 387),\n",
              " ('get', 383),\n",
              " ('called', 354),\n",
              " ('party', 345),\n",
              " ('mobile', 337),\n",
              " ('sxswi', 337),\n",
              " ('one', 305),\n",
              " ('major', 300),\n",
              " ('like', 280),\n",
              " ('time', 270),\n",
              " (\"'re\", 262),\n",
              " ('temporary', 262),\n",
              " ('opening', 256),\n",
              " (\"'m\", 252),\n",
              " ('possibly', 236),\n",
              " ('downtown', 225),\n",
              " ('people', 223),\n",
              " ('apps', 222),\n",
              " ('great', 221),\n",
              " ('see', 218),\n",
              " ('maps', 216),\n",
              " ('day', 216),\n",
              " ('check', 215),\n",
              " ('mayer', 214),\n",
              " ('going', 213),\n",
              " ('open', 209),\n",
              " ('popup', 208),\n",
              " ('need', 202),\n",
              " ('go', 197),\n",
              " ('marissa', 189),\n",
              " ('got', 182),\n",
              " ('know', 181),\n",
              " ('w/', 181),\n",
              " ('come', 176),\n",
              " ('win', 169),\n",
              " ('\\x89ûï', 167),\n",
              " ('first', 166),\n",
              " ('good', 165),\n",
              " ('us', 160),\n",
              " ('pop', 155),\n",
              " ('news', 151),\n",
              " ('think', 149),\n",
              " ('want', 148),\n",
              " ('cool', 148),\n",
              " ('music', 147),\n",
              " ('love', 145),\n",
              " ('next', 145),\n",
              " ('tech', 144),\n",
              " ('panel', 142),\n",
              " ('best', 141),\n",
              " ('thanks', 140),\n",
              " ('shop', 140),\n",
              " (\"'ll\", 138),\n",
              " ('design', 138),\n",
              " ('make', 134),\n",
              " ('awesome', 132),\n",
              " ('big', 131),\n",
              " ('game', 130),\n",
              " ('would', 129),\n",
              " ('set', 127),\n",
              " ('search', 127),\n",
              " ('use', 127),\n",
              " ('around', 125),\n",
              " ('video', 124),\n",
              " ('4', 123),\n",
              " ('last', 122),\n",
              " ('year', 121),\n",
              " ('users', 121),\n",
              " ('talk', 120),\n",
              " ('show', 118),\n",
              " ('anyone', 116),\n",
              " ('gt', 115),\n",
              " ('right', 114),\n",
              " (\"'ve\", 113),\n",
              " ('download', 113),\n",
              " ('using', 112),\n",
              " ('guy', 111),\n",
              " ('japan', 111),\n",
              " ('rumor', 111),\n",
              " ('says', 110),\n",
              " ('--', 110),\n",
              " ('really', 108),\n",
              " ('even', 108),\n",
              " ('session', 107),\n",
              " ('still', 106),\n",
              " ('launching', 106),\n",
              " ('coming', 103),\n",
              " ('location', 103),\n",
              " ('future', 101),\n",
              " ('hey', 100),\n",
              " ('twitter', 100),\n",
              " ('congress', 99),\n",
              " ('booth', 99),\n",
              " ('case', 98),\n",
              " ('itunes', 97),\n",
              " ('buy', 97),\n",
              " ('u', 97),\n",
              " ('blackberry', 96),\n",
              " ('1', 96),\n",
              " ('team', 95),\n",
              " ('6th', 95),\n",
              " ('week', 95),\n",
              " ('could', 94),\n",
              " ('bing', 94),\n",
              " ('digital', 93),\n",
              " ('heard', 93),\n",
              " ('way', 93),\n",
              " ('products', 92),\n",
              " ('tonight', 88),\n",
              " ('ipads', 87),\n",
              " ('technology', 87),\n",
              " ('find', 86),\n",
              " ('may', 86),\n",
              " ('everyone', 86),\n",
              " ('fun', 84),\n",
              " ('phone', 84),\n",
              " ('back', 83),\n",
              " ('thing', 82),\n",
              " ('look', 82),\n",
              " ('nice', 81),\n",
              " ('facebook', 81),\n",
              " ('designing', 81),\n",
              " ('looking', 80),\n",
              " ('getting', 80),\n",
              " ('tweet', 80),\n",
              " ('away', 80),\n",
              " ('tv', 79),\n",
              " ('ca', 78),\n",
              " ('many', 78),\n",
              " ('web', 78),\n",
              " ('3', 77),\n",
              " ('also', 77),\n",
              " ('ever', 77),\n",
              " ('wait', 76),\n",
              " ('temp', 74),\n",
              " ('yes', 73),\n",
              " ('let', 73),\n",
              " ('fb', 73),\n",
              " ('please', 73),\n",
              " ('wins', 72),\n",
              " ('giving', 71),\n",
              " ('sxsw\\x89û\\x9d', 71),\n",
              " ('already', 71),\n",
              " ('tomorrow', 71),\n",
              " ('5', 71),\n",
              " ('long', 70),\n",
              " ('live', 70),\n",
              " ('ubersocial', 69),\n",
              " ('includes', 69),\n",
              " ('uberguide', 69),\n",
              " ('interesting', 69),\n",
              " ('interactive', 68),\n",
              " ('friends', 68),\n",
              " ('gsdm', 67),\n",
              " ('ready', 67),\n",
              " ('much', 67),\n",
              " ('looks', 66),\n",
              " ('marketing', 66),\n",
              " ('night', 66),\n",
              " ('available', 66),\n",
              " ('every', 66),\n",
              " ('better', 66),\n",
              " ('platform', 65),\n",
              " ('work', 65),\n",
              " ('made', 64),\n",
              " ('product', 64),\n",
              " ('well', 64),\n",
              " ('sure', 63),\n",
              " ('action', 63),\n",
              " ('smart', 62),\n",
              " ('someone', 62),\n",
              " ('sell', 62),\n",
              " ('art', 62),\n",
              " ('fast', 62),\n",
              " ('take', 61),\n",
              " ('10', 61),\n",
              " ('details', 61),\n",
              " ('oh', 60),\n",
              " ('flipboard', 60),\n",
              " ('gets', 60),\n",
              " ('street', 60),\n",
              " ('others', 60),\n",
              " ('keep', 60),\n",
              " ('2011', 60),\n",
              " ('media', 58),\n",
              " ('lt', 58),\n",
              " ('winning', 58),\n",
              " ('wow', 58),\n",
              " ('meet', 57),\n",
              " ('else', 57),\n",
              " ('two', 57),\n",
              " ('yet', 57),\n",
              " ('help', 56),\n",
              " ('post', 56),\n",
              " ('white', 56),\n",
              " ('battery', 56),\n",
              " ('relief', 56),\n",
              " ('hotpot', 56),\n",
              " ('join', 55),\n",
              " ('room', 55),\n",
              " ('saw', 55),\n",
              " ('updates', 54),\n",
              " ('laptop', 54),\n",
              " ('world', 54),\n",
              " ('geek', 54),\n",
              " ('connect', 53),\n",
              " ('photos', 53),\n",
              " ('data', 53),\n",
              " ('tapworthy', 53),\n",
              " ('begins', 53),\n",
              " ('comes', 52),\n",
              " ('far', 52),\n",
              " ('q', 52),\n",
              " ('stop', 52),\n",
              " ('na', 52),\n",
              " ('service', 52),\n",
              " ('seen', 52),\n",
              " ('waiting', 52),\n",
              " ('heading', 52),\n",
              " ('sampler', 52),\n",
              " ('days', 51),\n",
              " ('person', 51),\n",
              " ('left', 51),\n",
              " ('say', 51),\n",
              " ('working', 51),\n",
              " ('might', 51),\n",
              " ('codes', 51),\n",
              " ('events', 50),\n",
              " ('event', 50),\n",
              " ('sponsored', 50),\n",
              " ('physical', 50),\n",
              " ('guide', 50),\n",
              " ('give', 50),\n",
              " ('navigation', 50),\n",
              " ('40', 50),\n",
              " ('taking', 50),\n",
              " ('content', 49),\n",
              " ('info', 49),\n",
              " ('block', 49),\n",
              " ('cc', 49),\n",
              " ('making', 49),\n",
              " ('hope', 48),\n",
              " ('photo', 48),\n",
              " ('release', 48),\n",
              " ('core', 48),\n",
              " ('qagb', 48),\n",
              " ('valid', 48),\n",
              " ('infektd', 48),\n",
              " ('foursquare', 47),\n",
              " ('mashable', 47),\n",
              " ('lot', 47),\n",
              " ('another', 47),\n",
              " ('map', 47),\n",
              " ('convention', 47),\n",
              " ('presentation', 47),\n",
              " ('money', 47),\n",
              " ('charger', 47),\n",
              " ('hootsuite', 46),\n",
              " ('follow', 46),\n",
              " ('demo', 46),\n",
              " ('attendees', 46),\n",
              " ('front', 46),\n",
              " ('wonder', 45),\n",
              " ('happy', 45),\n",
              " ('business', 45),\n",
              " ('gave', 45),\n",
              " ('building', 45),\n",
              " ('excited', 44),\n",
              " ('morning', 44),\n",
              " ('hours', 44),\n",
              " (\"'d\", 44),\n",
              " ('texas', 44),\n",
              " ('saving', 44),\n",
              " ('parties', 43),\n",
              " ('amazing', 43),\n",
              " ('sold', 43),\n",
              " ('something', 43),\n",
              " ('guys', 43),\n",
              " ('weekend', 42),\n",
              " ('takes', 42),\n",
              " ('makes', 42),\n",
              " ('share', 42),\n",
              " ('plenty', 42),\n",
              " ('worlds', 41),\n",
              " ('1st', 41),\n",
              " ('pic', 41),\n",
              " ('traffic', 41),\n",
              " ('trying', 41),\n",
              " ('center', 41),\n",
              " ('used', 41),\n",
              " ('without', 41),\n",
              " ('life', 41),\n",
              " ('must', 40),\n",
              " ('opens', 40),\n",
              " ('company', 40),\n",
              " ('cont', 40),\n",
              " ('found', 40),\n",
              " ('screen', 40),\n",
              " ('years', 40),\n",
              " ('outside', 40),\n",
              " ('things', 40),\n",
              " ('cnn', 40),\n",
              " ('tell', 40),\n",
              " ('showing', 40),\n",
              " ('featured', 40),\n",
              " ('edchat', 39),\n",
              " ('idea', 39),\n",
              " ('website', 39),\n",
              " ('gowalla', 39),\n",
              " ('talking', 39),\n",
              " ('food', 39),\n",
              " ('stores', 39),\n",
              " ('launched', 39),\n",
              " ('million', 39),\n",
              " ('crowd', 39),\n",
              " ('watch', 39),\n",
              " ('hear', 39),\n",
              " ('bring', 39),\n",
              " ('launches', 38),\n",
              " ('industry', 38),\n",
              " ('uxdes', 38),\n",
              " ('lines', 38),\n",
              " ('true', 38),\n",
              " ('interfaces', 38),\n",
              " ('ranking', 38),\n",
              " ('usage', 38),\n",
              " ('group', 37),\n",
              " ('version', 37),\n",
              " ('blog', 37),\n",
              " ('lost', 37),\n",
              " ('ios', 37),\n",
              " ('preview', 37),\n",
              " ('playing', 37),\n",
              " ('vs', 37),\n",
              " ('lol', 37),\n",
              " ('artists', 37),\n",
              " ('musedchat', 36),\n",
              " ('buzz', 36),\n",
              " ('experts', 36),\n",
              " ('experience', 36),\n",
              " ('places', 36),\n",
              " ('wish', 36),\n",
              " ('instead', 36),\n",
              " ('hot', 36),\n",
              " ('full', 36),\n",
              " ('able', 36),\n",
              " ('developers', 36),\n",
              " ('stuff', 35),\n",
              " ('fail', 35),\n",
              " ('update', 35),\n",
              " ('bought', 35),\n",
              " ('play', 35),\n",
              " ('ppl', 35),\n",
              " ('\\x89÷_', 35),\n",
              " ('newtwitter', 35),\n",
              " ('schools', 35),\n",
              " ('seo', 35),\n",
              " ('wifi', 35),\n",
              " ('man', 35),\n",
              " ('giveaway', 35),\n",
              " ('phones', 35),\n",
              " ('pretty', 35),\n",
              " ('conferences', 35),\n",
              " ('bad', 35),\n",
              " ('meetup', 35),\n",
              " ('daily', 35),\n",
              " ('friday', 35),\n",
              " ('starting', 34),\n",
              " ('rock', 34),\n",
              " ('probably', 34),\n",
              " ('access', 34),\n",
              " ('needs', 34),\n",
              " ('site', 34),\n",
              " ('nerds', 34),\n",
              " ('place', 34),\n",
              " ('folks', 34),\n",
              " ('huge', 34),\n",
              " ('march', 34),\n",
              " ('microsoft', 34),\n",
              " ('user', 34),\n",
              " ('\\x89÷¼', 33),\n",
              " ('classical', 33),\n",
              " ('put', 33),\n",
              " ('power', 33),\n",
              " ('mac', 33),\n",
              " ('brain', 33),\n",
              " ('real', 33),\n",
              " ('listening', 33),\n",
              " ('hand', 33),\n",
              " ('brilliant', 33),\n",
              " ('sets', 33),\n",
              " ('hilton', 33),\n",
              " ('code', 33),\n",
              " ('seems', 33),\n",
              " ('never', 33),\n",
              " ('sign', 33),\n",
              " ('said', 33),\n",
              " ('festival', 32),\n",
              " ('conference', 32),\n",
              " ('hollergram', 32),\n",
              " ('hour', 32),\n",
              " ('forward', 32),\n",
              " ('old', 32),\n",
              " ('pics', 32),\n",
              " ('book', 32),\n",
              " ('everything', 32),\n",
              " ('selling', 32),\n",
              " ('diller', 32),\n",
              " ('2s', 32),\n",
              " ('ballroom', 32),\n",
              " ('everywhere', 32),\n",
              " ('rewards', 32),\n",
              " ('call', 32),\n",
              " ('socialmedia', 32),\n",
              " ('feel', 32),\n",
              " ('checking', 32),\n",
              " ('late', 31),\n",
              " ('home', 31),\n",
              " ('headaches', 31),\n",
              " ('report', 31),\n",
              " ('thank', 31),\n",
              " ('touchingstories', 31),\n",
              " ('local', 31),\n",
              " ('read', 31),\n",
              " ('tweets', 31),\n",
              " ('trade', 31),\n",
              " ('built', 31),\n",
              " ('setting', 31),\n",
              " ('maybe', 31),\n",
              " ('lots', 31),\n",
              " ('walking', 31),\n",
              " ('dev', 31),\n",
              " ('view', 31),\n",
              " ('3g', 30),\n",
              " ('sale', 30),\n",
              " ('start', 30),\n",
              " ('attending', 30),\n",
              " ('checkins', 30),\n",
              " ('strategy', 30),\n",
              " ('7', 30),\n",
              " ('forget', 30),\n",
              " ('devices', 30),\n",
              " ('updated', 30),\n",
              " ('analytics', 30),\n",
              " ('newsapps', 30),\n",
              " ('market', 30),\n",
              " ('including', 30),\n",
              " ('boomers', 30),\n",
              " ('camera', 30),\n",
              " ('seeing', 29),\n",
              " ('location-based', 29),\n",
              " ('times', 29),\n",
              " ('w', 29),\n",
              " ('queue', 29),\n",
              " ('lounge', 29),\n",
              " ('macbook', 29),\n",
              " ('startups', 29),\n",
              " ('dude', 29),\n",
              " ('soon', 29),\n",
              " ('tablet', 29),\n",
              " ('top', 28),\n",
              " ('\\x89ã_', 28),\n",
              " ('south', 28),\n",
              " ('behind', 28),\n",
              " ('genius', 28),\n",
              " ('wants', 28),\n",
              " ('scheduled', 28),\n",
              " ('brand', 28),\n",
              " ('contextual', 28),\n",
              " ('route', 28),\n",
              " ('choice', 28),\n",
              " ('official', 28),\n",
              " ('head', 28),\n",
              " ('mom', 28),\n",
              " ('marissagoogle', 28),\n",
              " ('discovery', 27),\n",
              " ('chance', 27),\n",
              " ('internet', 27),\n",
              " ('town', 27),\n",
              " ('based', 27),\n",
              " ('space', 27),\n",
              " ('atx', 27),\n",
              " ('card', 27),\n",
              " ('house', 27),\n",
              " ('security', 27),\n",
              " ('developer', 27),\n",
              " ('packed', 27),\n",
              " ('schedule', 27),\n",
              " ('living', 27),\n",
              " ('schemas', 27),\n",
              " ('crazy', 27),\n",
              " ('since', 27),\n",
              " ('nothing', 27),\n",
              " ('bar', 27),\n",
              " ('enter', 27),\n",
              " ('belinsky', 26),\n",
              " ('actually', 26),\n",
              " ('wan', 26),\n",
              " ('bands', 26),\n",
              " ('yesterday', 26),\n",
              " ('turn', 26),\n",
              " ('lp', 26),\n",
              " ('aclu', 26),\n",
              " ('150', 26),\n",
              " ('keynote', 26),\n",
              " ('sweet', 26),\n",
              " ('track', 26),\n",
              " ('tablets', 26),\n",
              " ('anything', 26),\n",
              " ('tx', 26),\n",
              " ('interrupt', 26),\n",
              " ('programming', 26),\n",
              " ('gon', 26),\n",
              " ('red', 26),\n",
              " ('try', 26),\n",
              " ('thought', 26),\n",
              " ('interview', 26),\n",
              " ('congrats', 26),\n",
              " ('tweeting', 25),\n",
              " ('started', 25),\n",
              " ('job', 25),\n",
              " ('zazzlesxsw', 25),\n",
              " ('enchantment', 25),\n",
              " ('earthquake', 25),\n",
              " ('cnet', 25),\n",
              " ('beta', 25),\n",
              " ('city', 25),\n",
              " ('retail', 25),\n",
              " ('special', 25),\n",
              " ('verizon', 25),\n",
              " ('regularly', 25),\n",
              " ('apparently', 25),\n",
              " ('maggie', 25),\n",
              " ('windows', 25),\n",
              " ('wo', 25),\n",
              " ('//', 25),\n",
              " ('information', 25),\n",
              " ('important', 25),\n",
              " ('ask', 25),\n",
              " ('check-in', 24),\n",
              " ('gsd', 24),\n",
              " ('grab', 24),\n",
              " ('per', 24),\n",
              " ('pm', 24),\n",
              " ('standing', 24),\n",
              " ('early', 24),\n",
              " ('sharing', 24),\n",
              " ('stream', 24),\n",
              " ('list', 24),\n",
              " ('almost', 24),\n",
              " ('move', 24),\n",
              " ('tip', 24),\n",
              " ('america', 24),\n",
              " ('register', 23),\n",
              " ('drink', 23),\n",
              " ('stay', 23),\n",
              " ('funny', 23),\n",
              " ('ux', 23),\n",
              " ('audience', 23),\n",
              " ('/via', 23),\n",
              " ('juice', 23),\n",
              " ('etc', 23),\n",
              " ('took', 23),\n",
              " ('catch', 23),\n",
              " ('opened', 23),\n",
              " ('nfc', 23),\n",
              " ('results', 23),\n",
              " ('guess', 23),\n",
              " ('attend', 23),\n",
              " ('notes', 23),\n",
              " ('privacy', 23),\n",
              " ('searches', 23),\n",
              " ('6', 23),\n",
              " ('little', 23),\n",
              " ('charge', 23),\n",
              " ('device', 23),\n",
              " ('awards', 23),\n",
              " ('page', 23),\n",
              " ('20', 23),\n",
              " ('geeks', 23),\n",
              " ('project', 23),\n",
              " ('cases', 22),\n",
              " ('haha', 22),\n",
              " ('god', 22),\n",
              " ('mark', 22),\n",
              " ('911tweets', 22),\n",
              " ('droid', 22),\n",
              " ('h4ckers', 22),\n",
              " ('enjoy', 22),\n",
              " ('minutes', 22),\n",
              " ('least', 22),\n",
              " ('samsung', 22),\n",
              " ('hit', 22),\n",
              " ('goes', 22),\n",
              " ('doodles', 22),\n",
              " ('beyond', 22),\n",
              " ('buying', 22),\n",
              " ('miss', 22),\n",
              " ('hall', 22),\n",
              " ('league', 22),\n",
              " ('always', 22),\n",
              " ('jealous', 22),\n",
              " ('killer', 22),\n",
              " ('end', 22),\n",
              " ('watching', 22),\n",
              " ('visit', 22),\n",
              " ('plus', 21),\n",
              " ('stock', 21),\n",
              " ('holler', 21),\n",
              " ('gram', 21),\n",
              " ('done', 21),\n",
              " ('speak.', 21),\n",
              " ('kawasaki', 21),\n",
              " ('talks', 21),\n",
              " ('ok', 21),\n",
              " ('point', 21),\n",
              " ('barry', 21),\n",
              " ('went', 21),\n",
              " ('learn', 21),\n",
              " ('picture', 21),\n",
              " ('less', 21),\n",
              " ('dj', 21),\n",
              " ('song', 21),\n",
              " ('saves', 21),\n",
              " ('2.', 21),\n",
              " ('shot', 21),\n",
              " ('send', 21),\n",
              " ('later', 21),\n",
              " ('extraordinary', 21),\n",
              " ('tracks', 21),\n",
              " ('ride', 21),\n",
              " ('r', 21),\n",
              " ('features', 21),\n",
              " ('tattoo', 21),\n",
              " ('released', 21),\n",
              " ('v', 21),\n",
              " ('hard', 21),\n",
              " ('finally', 21),\n",
              " ('pack', 21),\n",
              " ('\\x89ûó', 21),\n",
              " ('communication', 20),\n",
              " ('showcased', 20),\n",
              " ('groupon', 20),\n",
              " ('speech', 20),\n",
              " ('month', 20),\n",
              " ('wondering', 20),\n",
              " ('except', 20),\n",
              " ('pick', 20),\n",
              " ('pay', 20),\n",
              " ('ad', 20),\n",
              " ('rumored', 20),\n",
              " ('course', 20),\n",
              " ('\\x89ûò', 20),\n",
              " ('picked', 20),\n",
              " ('stupid', 20),\n",
              " ('heads', 20),\n",
              " ('sitting', 20),\n",
              " ('question', 20),\n",
              " ('exhibit', 20),\n",
              " ('speak', 20),\n",
              " ('netflix', 20),\n",
              " ('drinks', 20),\n",
              " ('latest', 20),\n",
              " ('80s', 20),\n",
              " ('cab', 20),\n",
              " ('mike', 20),\n",
              " ('useful', 20),\n",
              " ('online', 20),\n",
              " ('tyson', 20),\n",
              " ('tim', 19),\n",
              " ('fan', 19),\n",
              " ('review', 19),\n",
              " ('enjoying', 19),\n",
              " ('flash', 19),\n",
              " ('blogger', 19),\n",
              " ('film', 19),\n",
              " ('ur', 19),\n",
              " ('development', 19),\n",
              " ('believe', 19),\n",
              " ('sounds', 19),\n",
              " ('rumors', 19),\n",
              " ('near', 19),\n",
              " ('html5', 19),\n",
              " ('companies', 19),\n",
              " ('success', 19),\n",
              " ('hello', 19),\n",
              " ('across', 19),\n",
              " ('acc', 19),\n",
              " ('bigger', 19),\n",
              " ('anywhere', 19),\n",
              " ('charging', 19),\n",
              " ('interface', 19),\n",
              " ('air', 19),\n",
              " ('super', 19),\n",
              " ('rankings', 19),\n",
              " ('magazines', 19),\n",
              " ('b', 19),\n",
              " ('consider', 19),\n",
              " ('peeps', 19),\n",
              " ('reality', 19),\n",
              " ('asked', 19),\n",
              " ('reading', 19),\n",
              " ('flight', 19),\n",
              " ('hands', 19),\n",
              " ('dead', 18),\n",
              " ('means', 18),\n",
              " ('ta', 18),\n",
              " ('calendar', 18),\n",
              " ('added', 18),\n",
              " ('friend', 18),\n",
              " ('pnid', 18),\n",
              " ('x', 18),\n",
              " ('saved', 18),\n",
              " ('together', 18),\n",
              " ('worth', 18),\n",
              " ('travel', 18),\n",
              " ('tools', 18),\n",
              " ('cards', 18),\n",
              " ('miles', 18),\n",
              " ('busy', 18),\n",
              " ('5pm', 18),\n",
              " ('holding', 18),\n",
              " ('run', 18),\n",
              " ('enough', 18),\n",
              " ('bringing', 18),\n",
              " ('engine', 18),\n",
              " ('past', 18),\n",
              " ('employees', 18),\n",
              " ('create', 18),\n",
              " ('ipod', 18),\n",
              " ('works', 18),\n",
              " ('story', 18),\n",
              " ('cloud', 18),\n",
              " ('trip', 18),\n",
              " ('feature', 18),\n",
              " ('name', 17),\n",
              " ('sxswh', 17),\n",
              " ('hipsters', 17),\n",
              " ('part', 17),\n",
              " ('learning', 17),\n",
              " ('spent', 17),\n",
              " ('blocks', 17),\n",
              " ('credit', 17),\n",
              " ('southwest', 17),\n",
              " ('plan', 17),\n",
              " ('missed', 17),\n",
              " ('shows', 17),\n",
              " ('..', 17),\n",
              " ('surprise', 17),\n",
              " ('control', 17),\n",
              " ('ago', 17),\n",
              " ('games', 17),\n",
              " ('test', 17),\n",
              " ('deal', 17),\n",
              " ('secret', 17),\n",
              " ('thinks', 17),\n",
              " ('owners', 17),\n",
              " ('coffee', 17),\n",
              " ('vp', 17),\n",
              " ('different', 17),\n",
              " ('stories', 17),\n",
              " ('mistakes', 17),\n",
              " ('favorite', 17),\n",
              " ('killing', 17),\n",
              " ('crowley', 17),\n",
              " ('fight', 17),\n",
              " ('running', 16),\n",
              " ('gadgets', 16),\n",
              " ('value', 16),\n",
              " ('easy', 16),\n",
              " ('earth', 16),\n",
              " ('black', 16),\n",
              " ('band', 16),\n",
              " ('mophie', 16),\n",
              " ('15', 16),\n",
              " ('sales', 16),\n",
              " ('improve', 16),\n",
              " ('social-type', 16),\n",
              " ('1pm', 16),\n",
              " ('among', 16),\n",
              " ('offers', 16),\n",
              " ('20+', 16),\n",
              " ('groundlink', 16),\n",
              " ('437', 16),\n",
              " ('bit', 16),\n",
              " ('vip', 16),\n",
              " ('mae', 16),\n",
              " ('source', 16),\n",
              " ('omg', 16),\n",
              " ('30', 16),\n",
              " ('saying', 16),\n",
              " ('totally', 16),\n",
              " ('small', 16),\n",
              " ('afford', 16),\n",
              " ('therapy', 16),\n",
              " ('tool', 16),\n",
              " ('bag', 16),\n",
              " ('podcast', 16),\n",
              " ('whole', 16),\n",
              " ('3d', 16),\n",
              " ('4:00-7:59:59p', 16),\n",
              " ('bbq', 16),\n",
              " ('browser', 16),\n",
              " ('zlf', 16),\n",
              " ('drive', 16),\n",
              " ('blue', 16),\n",
              " ('thinking', 16),\n",
              " ('recommendations', 16),\n",
              " ('ha', 15),\n",
              " ('album', 15),\n",
              " ('fans', 15),\n",
              " ('support', 15),\n",
              " ('headed', 15),\n",
              " ('hotel', 15),\n",
              " ('model', 15),\n",
              " ('chrome', 15),\n",
              " ('announces', 15),\n",
              " ('chat', 15),\n",
              " ('technews', 15),\n",
              " ('hi', 15),\n",
              " ('12:30pm', 15),\n",
              " ('plane', 15),\n",
              " ('badge', 15),\n",
              " ('airport', 15),\n",
              " ('yelp', 15),\n",
              " ('100', 15),\n",
              " ('giant', 15),\n",
              " ('hackers', 15),\n",
              " ('leaving', 15),\n",
              " ('article', 15),\n",
              " ('4sq', 15),\n",
              " ('1986', 15),\n",
              " ('plans', 15),\n",
              " ('light', 15),\n",
              " ('fam', 15),\n",
              " ('startupbus', 15),\n",
              " ('interested', 15),\n",
              " ('augmented', 15),\n",
              " ('12:00-3:59:59p', 15),\n",
              " ('loving', 15),\n",
              " ('biz', 15),\n",
              " ('exclusive', 15),\n",
              " ('floor', 15),\n",
              " ('sxflip', 15),\n",
              " ('tried', 15),\n",
              " ('4g', 15),\n",
              " ('fascist', 15),\n",
              " ('kind', 15),\n",
              " ('dear', 15),\n",
              " ('pearl', 15),\n",
              " ('double', 15),\n",
              " ('chris', 15),\n",
              " ('lonely', 15),\n",
              " ('uses', 15),\n",
              " ('sessions', 15),\n",
              " ('11', 14),\n",
              " ('push', 14),\n",
              " ('leave', 14),\n",
              " ('concept', 14),\n",
              " ('publishing', 14),\n",
              " ('knows', 14),\n",
              " ('agree', 14),\n",
              " ('stand', 14),\n",
              " ('ice', 14),\n",
              " ('cream', 14),\n",
              " ('weird', 14),\n",
              " ('contact', 14),\n",
              " ('mention', 14),\n",
              " ('bizzy', 14),\n",
              " ('bettersearch', 14),\n",
              " ('hp', 14),\n",
              " ('change', 14),\n",
              " ('lunch', 14),\n",
              " ('ipad2s', 14),\n",
              " ('sixth', 14),\n",
              " ('biggest', 14),\n",
              " ('inside', 14),\n",
              " ('came', 14),\n",
              " ('random', 14),\n",
              " ('salon', 14),\n",
              " ('tech_news', 14),\n",
              " ('circle', 14),\n",
              " ('arrived', 14),\n",
              " ('computer', 14),\n",
              " ('80', 14),\n",
              " ('qr', 14),\n",
              " ('lego', 14),\n",
              " ('yeah', 14),\n",
              " ('met', 14),\n",
              " ('vs.', 14),\n",
              " ('present', 14),\n",
              " ('pro', 14),\n",
              " ('customer', 14),\n",
              " ('3:30', 14),\n",
              " ('mon', 14),\n",
              " ('explorer', 14),\n",
              " ('public', 14),\n",
              " ('touch', 14),\n",
              " ('word', 14),\n",
              " ('walked', 14),\n",
              " ('connected', 14),\n",
              " ('pc', 14),\n",
              " ('glad', 14),\n",
              " ('door', 14),\n",
              " ('meeting', 14),\n",
              " ('bet', 14),\n",
              " ('google/bing', 14),\n",
              " ('finding', 14),\n",
              " ('yep', 14),\n",
              " ('japanese', 14),\n",
              " ('quake', 14),\n",
              " ('expect', 14),\n",
              " ('brought', 14),\n",
              " ('starts', 14),\n",
              " ('survive', 14),\n",
              " ('original', 14),\n",
              " ('welcome', 14),\n",
              " ('kid', 14),\n",
              " ('car', 14),\n",
              " ('steve', 14),\n",
              " ('planet', 14),\n",
              " ('startup', 14),\n",
              " ('appears', 14),\n",
              " ('abt', 14),\n",
              " ('streaming', 14),\n",
              " ('upgrade', 13),\n",
              " ('likely', 13),\n",
              " ('til', 13),\n",
              " ('alarm', 13),\n",
              " ('putting', 13),\n",
              " ('midnight', 13),\n",
              " ('mind', 13),\n",
              " ('hmm', 13),\n",
              " ('focus', 13),\n",
              " ('testing', 13),\n",
              " ('tradeshow', 13),\n",
              " ('2nd', 13),\n",
              " ('longer', 13),\n",
              " ('70', 13),\n",
              " ('questions', 13),\n",
              " ('issue', 13),\n",
              " ('missing', 13),\n",
              " ('shit', 13),\n",
              " ('sat', 13),\n",
              " ('hoot', 13),\n",
              " ('lose', 13),\n",
              " ('sxsw2011', 13),\n",
              " ('hashable', 13),\n",
              " ('techcrunch', 13),\n",
              " ('disc', 13),\n",
              " ('speakeasy', 13),\n",
              " ('coverage', 13),\n",
              " ('valuable', 13),\n",
              " ('gearing', 13),\n",
              " ('networking', 13),\n",
              " ('officially', 13),\n",
              " ('spending', 13),\n",
              " ('doodle', 13),\n",
              " ('disaster', 13),\n",
              " ('hanging', 13),\n",
              " ('though', 13),\n",
              " ('dancing', 13),\n",
              " ('necro', 13),\n",
              " ('concert', 13),\n",
              " ('friendly', 13),\n",
              " ('03/12/11', 13),\n",
              " ('spot', 13),\n",
              " ('12', 13),\n",
              " ('yr', 13),\n",
              " ('unofficial', 13),\n",
              " ('hipster', 13),\n",
              " ('deals', 13),\n",
              " ('envy', 13),\n",
              " ('confirmed', 13),\n",
              " ...]"
            ]
          },
          "metadata": {},
          "execution_count": 446
        }
      ]
    },
    {
      "cell_type": "markdown",
      "metadata": {
        "id": "BTIy7XaNHBR8"
      },
      "source": [
        "**word cloud generator**"
      ]
    },
    {
      "cell_type": "code",
      "metadata": {
        "colab": {
          "base_uri": "https://localhost:8080/",
          "height": 254
        },
        "id": "lvWfFZefThRj",
        "outputId": "15ed0548-8f42-4dbd-dd86-0bfc7d418a74"
      },
      "source": [
        "#instantiating word cloud and using my frequency dictionary to fill it in\n",
        "wc = WordCloud(background_color=\"white\", max_words=2000)\n",
        "wc.generate_from_frequencies(tweet_freqdist)\n",
        "\n",
        "plt.figure(figsize=(8,8))\n",
        "plt.imshow(wc, interpolation='bilinear')\n",
        "plt.axis(\"off\")\n",
        "plt.margins(x=1, y=1)\n",
        "plt.show()\n",
        "\n",
        "# wc.to_file('Images/word_cloud.png')"
      ],
      "execution_count": null,
      "outputs": [
        {
          "output_type": "display_data",
          "data": {
            "image/png": "[encoded data removed]",
            "text/plain": [
              "<Figure size 576x576 with 1 Axes>"
            ]
          },
          "metadata": {
            "needs_background": "light"
          }
        }
      ]
    },
    {
      "cell_type": "markdown",
      "metadata": {
        "id": "H4rK-561US1T"
      },
      "source": [
        "# **SPLIT DATA**"
      ]
    },
    {
      "cell_type": "markdown",
      "metadata": {
        "id": "Jbvzj2OtHSb-"
      },
      "source": [
        "Saya akan set teks clean_tweet yang sudah definisikan di atas untuk melatih dan menguji variabel."
      ]
    },
    {
      "cell_type": "code",
      "metadata": {
        "id": "ESyXaAGPUPVu"
      },
      "source": [
        "X = df['clean_tweet']\n",
        "y = df['class']\n",
        "\n",
        "X_train, X_test, y_train, y_test = train_test_split(X, y, random_state=10)"
      ],
      "execution_count": null,
      "outputs": []
    },
    {
      "cell_type": "markdown",
      "metadata": {
        "id": "5siMcPo3HoZ9"
      },
      "source": [
        "Saya juga akan menggunakan count vectorizer dengan model dasar karena ini merupakan salah satu teknik yang lebih sederhana. Count Vectorizer mengubah teks menjadi vektor berdasarkan jumlah setiap kata yang muncul dalam teks."
      ]
    },
    {
      "cell_type": "code",
      "metadata": {
        "id": "dZ7GC5SQUbUM"
      },
      "source": [
        "count_vectorizer = CountVectorizer(stop_words=stopwords_list)\n",
        "\n",
        "X_train_count = count_vectorizer.fit_transform(X_train)\n",
        "X_test_count = count_vectorizer.transform(X_test)"
      ],
      "execution_count": null,
      "outputs": []
    },
    {
      "cell_type": "markdown",
      "metadata": {
        "id": "JmpAA03oU8gE"
      },
      "source": [
        "# **MAKE NLP MODEL**"
      ]
    },
    {
      "cell_type": "markdown",
      "metadata": {
        "id": "Qx7_ZpIP4eqi"
      },
      "source": [
        "# **GLOBAL VECTOR LOADING**"
      ]
    },
    {
      "cell_type": "markdown",
      "metadata": {
        "id": "hwMSvQu5H7iy"
      },
      "source": [
        "Global Vector merupakan representasi Kata pada model yang telah dibuat sebelumnya oleh Stanford NLP Group, yang dilatih pada kumpulan data besar untuk mendapatkan representasi vektor untuk kata-kata."
      ]
    },
    {
      "cell_type": "code",
      "metadata": {
        "id": "omOvdhtaU5fG"
      },
      "source": [
        "#opening glove file and applying it to my data\n",
        "glove = {}\n",
        "with open('/content/glove.6B.50d.txt', 'rb') as f:\n",
        "    for line in f:\n",
        "        parts = line.split()\n",
        "        word = parts[0].decode('utf-8')\n",
        "        if word in total_vocab:\n",
        "            vector = np.array(parts[1:], dtype=np.float32)\n",
        "            glove[word] = vector"
      ],
      "execution_count": null,
      "outputs": []
    },
    {
      "cell_type": "code",
      "metadata": {
        "colab": {
          "base_uri": "https://localhost:8080/"
        },
        "id": "QvxxE1n0f19Y",
        "outputId": "ec3fcb08-c4be-4eba-9fd2-2fe4a6c92229"
      },
      "source": [
        "glove['google']"
      ],
      "execution_count": null,
      "outputs": [
        {
          "output_type": "execute_result",
          "data": {
            "text/plain": [
              "array([ 9.6900e-01, -6.1799e-01,  1.6561e+00,  1.4079e+00, -6.3774e-02,\n",
              "       -4.5934e-01, -1.0961e+00, -1.2889e+00,  5.1762e-01,  4.8351e-01,\n",
              "        5.5815e-03,  2.7758e-01, -6.3178e-01, -4.1388e-01,  4.1559e-01,\n",
              "        2.7384e-01, -9.0019e-01, -4.8922e-01,  3.8597e-01, -8.1652e-01,\n",
              "        5.9012e-01, -4.1399e-01, -2.7623e-01,  3.2718e-01,  5.9101e-01,\n",
              "       -9.1574e-01, -2.5320e-01, -4.3769e-01, -5.1452e-01, -7.0860e-01,\n",
              "        1.8017e+00, -5.5229e-01, -4.1493e-01, -6.4137e-01, -1.0188e+00,\n",
              "       -1.1337e+00, -7.7804e-01,  1.5144e-03, -8.1687e-01, -8.0404e-01,\n",
              "        1.1654e+00, -3.5197e-01, -3.9405e-01,  6.3104e-01, -9.1100e-02,\n",
              "       -5.1041e-01,  6.5359e-01,  1.1840e-01,  2.9559e-01,  1.8361e-01],\n",
              "      dtype=float32)"
            ]
          },
          "metadata": {},
          "execution_count": 451
        }
      ]
    },
    {
      "cell_type": "markdown",
      "metadata": {
        "id": "enR_ywuPIccZ"
      },
      "source": [
        "GloVe telah berhasil membuat kata-kata dalam kumpulan data menjadi sebuah vector"
      ]
    },
    {
      "cell_type": "markdown",
      "metadata": {
        "id": "ZFEoIKaB2iVE"
      },
      "source": [
        "# **KELAS VECTORIZER**"
      ]
    },
    {
      "cell_type": "markdown",
      "metadata": {
        "id": "0UtLlPWHIq79"
      },
      "source": [
        "berikut merupakan pendefinisian kelas untuk membuat penyisipan kata embedding"
      ]
    },
    {
      "cell_type": "code",
      "metadata": {
        "id": "hNT8J0MCUt47"
      },
      "source": [
        "class W2vVectorizer(object):\n",
        "    \n",
        "    def __init__(self, w2v):\n",
        "        # Takes in a dictionary of words and vectors as input\n",
        "        self.w2v = w2v\n",
        "        if len(w2v) == 0:\n",
        "            self.dimensions = 0\n",
        "        else:\n",
        "            self.dimensions = len(w2v[next(iter(glove))])\n",
        "    \n",
        "    # adding a 'fit' method so I can use in a pipeline\n",
        "    def fit(self, X, y):\n",
        "        return self\n",
        "            \n",
        "    def transform(self, X):\n",
        "        return np.array([\n",
        "            np.mean([self.w2v[w] for w in words if w in self.w2v]\n",
        "                   or [np.zeros(self.dimensions)], axis=0) for words in X])"
      ],
      "execution_count": null,
      "outputs": []
    },
    {
      "cell_type": "markdown",
      "metadata": {
        "id": "9eR4AIfI2n6E"
      },
      "source": [
        "# **TOKENIZER**"
      ]
    },
    {
      "cell_type": "markdown",
      "metadata": {
        "id": "LXatXja_I547"
      },
      "source": [
        "Di sini saya akan menggunakan tools praprocessing Keras untuk melakukan tokenisasi pada setiap split datanya, mengubahnya menjadi urutan, dan kemudian menambahkan urutannya sehingga semuanya memiliki panjang yang sama."
      ]
    },
    {
      "cell_type": "code",
      "metadata": {
        "id": "-pYPtqcTYU5_"
      },
      "source": [
        "tokenizer = text.Tokenizer(num_words=10000)\n",
        "tokenizer.fit_on_texts(list(X_train))\n",
        "X_train_tokenized = tokenizer.texts_to_sequences(X_train)\n",
        "X_test_tokenized = tokenizer.texts_to_sequences(X_test)\n",
        "X_train_token = sequence.pad_sequences(X_train_tokenized, maxlen=100)\n",
        "X_test_token = sequence.pad_sequences(X_test_tokenized, maxlen=100)"
      ],
      "execution_count": null,
      "outputs": []
    },
    {
      "cell_type": "code",
      "metadata": {
        "colab": {
          "base_uri": "https://localhost:8080/"
        },
        "id": "QpDZMJ9XYZMy",
        "outputId": "75e4e4e5-ca06-4af8-ada3-3b6dc67fb462"
      },
      "source": [
        "X_train_token.shape"
      ],
      "execution_count": null,
      "outputs": [
        {
          "output_type": "execute_result",
          "data": {
            "text/plain": [
              "(6702, 100)"
            ]
          },
          "metadata": {},
          "execution_count": 454
        }
      ]
    },
    {
      "cell_type": "code",
      "metadata": {
        "colab": {
          "base_uri": "https://localhost:8080/"
        },
        "id": "4kYv4UwbYekP",
        "outputId": "dc2092f0-2d58-4154-a59b-4f84b0f94b9a"
      },
      "source": [
        "y_train_enc = pd.get_dummies(y_train).values\n",
        "y_test_enc = pd.get_dummies(y_test).values\n",
        "y_train_enc.shape"
      ],
      "execution_count": null,
      "outputs": [
        {
          "output_type": "execute_result",
          "data": {
            "text/plain": [
              "(6702, 3)"
            ]
          },
          "metadata": {},
          "execution_count": 455
        }
      ]
    },
    {
      "cell_type": "markdown",
      "metadata": {
        "id": "-MsJQ_rMLTVt"
      },
      "source": [
        "Kedua variabel tampaknya merupakan dimensi yang tepat. Saatnya membuat model nlp. Saya akan membuat model sekuensial, dimulai dengan lapisan embedding 10.000 kata, yang merupakan jumlah kata dalam tokenizer. Saya mengatur ukuran embedding 100 yang merupakan parameter panjang maksimal yang saya gunakan di atas.\n",
        "\n",
        "Kemudian saya menambahkan dua lapisan, LSTM dan lapisan padat. Untuk membuatnya tetap sederhana, saya akan menjalankan ini selama 10 epoch.\n",
        "\n",
        "Model saya akan mengevaluasi akurasi, dan menggunakan fungsi loss dan pengoptimalan yang dipilih."
      ]
    },
    {
      "cell_type": "code",
      "metadata": {
        "id": "iZ-qvvA6Yi6G"
      },
      "source": [
        "np.random.seed(10)\n",
        "model1 = Sequential()"
      ],
      "execution_count": null,
      "outputs": []
    },
    {
      "cell_type": "code",
      "metadata": {
        "id": "jcCKcsiKYk9g"
      },
      "source": [
        "embedding_size = 100\n",
        "model1.add(Embedding(10000, embedding_size))\n",
        "model1.add(LSTM(25, return_sequences=True))\n",
        "model1.add(GlobalMaxPool1D())\n",
        "model1.add(Dense(50, activation='relu'))\n",
        "model1.add(Dense(3, activation='relu'))"
      ],
      "execution_count": null,
      "outputs": []
    },
    {
      "cell_type": "code",
      "metadata": {
        "colab": {
          "base_uri": "https://localhost:8080/"
        },
        "id": "od-cueDMYpmh",
        "outputId": "553ccc7e-3f5b-47d1-896d-e265283692f2"
      },
      "source": [
        "model1.compile(loss='categorical_crossentropy', \n",
        "              optimizer='adam', \n",
        "              metrics=['accuracy'])\n",
        "\n",
        "model1.summary()"
      ],
      "execution_count": null,
      "outputs": [
        {
          "output_type": "stream",
          "name": "stdout",
          "text": [
            "Model: \"sequential_15\"\n",
            "_________________________________________________________________\n",
            "Layer (type)                 Output Shape              Param #   \n",
            "=================================================================\n",
            "embedding_15 (Embedding)     (None, None, 100)         1000000   \n",
            "_________________________________________________________________\n",
            "lstm_15 (LSTM)               (None, None, 25)          12600     \n",
            "_________________________________________________________________\n",
            "global_max_pooling1d_15 (Glo (None, 25)                0         \n",
            "_________________________________________________________________\n",
            "dense_30 (Dense)             (None, 50)                1300      \n",
            "_________________________________________________________________\n",
            "dense_31 (Dense)             (None, 3)                 153       \n",
            "=================================================================\n",
            "Total params: 1,014,053\n",
            "Trainable params: 1,014,053\n",
            "Non-trainable params: 0\n",
            "_________________________________________________________________\n"
          ]
        }
      ]
    },
    {
      "cell_type": "code",
      "metadata": {
        "colab": {
          "base_uri": "https://localhost:8080/",
          "height": 644
        },
        "id": "N0h2rw5C3XGy",
        "outputId": "5e83b65d-fa8c-461c-c320-88a619379886"
      },
      "source": [
        "keras.utils.plot_model(model1, \"model1_function.png\", show_shapes=True)"
      ],
      "execution_count": null,
      "outputs": [
        {
          "output_type": "execute_result",
          "data": {
            "image/png": "[encoded data removed]",
            "text/plain": [
              "<IPython.core.display.Image object>"
            ]
          },
          "metadata": {},
          "execution_count": 459
        }
      ]
    },
    {
      "cell_type": "code",
      "metadata": {
        "colab": {
          "base_uri": "https://localhost:8080/"
        },
        "id": "1-jw5Ba1YuTx",
        "outputId": "95393916-fe2c-470d-8f67-268d0fad3941"
      },
      "source": [
        "model_val = model1.fit(X_train_token, y_train_enc, epochs=10, batch_size=32, validation_split=0.1)"
      ],
      "execution_count": null,
      "outputs": [
        {
          "output_type": "stream",
          "name": "stdout",
          "text": [
            "Epoch 1/10\n",
            "189/189 [==============================] - 14s 66ms/step - loss: 0.8662 - accuracy: 0.6299 - val_loss: 0.9104 - val_accuracy: 0.6915\n",
            "Epoch 2/10\n",
            "189/189 [==============================] - 12s 62ms/step - loss: 0.7962 - accuracy: 0.6448 - val_loss: 0.9469 - val_accuracy: 0.7004\n",
            "Epoch 3/10\n",
            "189/189 [==============================] - 12s 62ms/step - loss: 0.6249 - accuracy: 0.7554 - val_loss: 0.7629 - val_accuracy: 0.7034\n",
            "Epoch 4/10\n",
            "189/189 [==============================] - 12s 62ms/step - loss: 0.4883 - accuracy: 0.8324 - val_loss: 1.2037 - val_accuracy: 0.7109\n",
            "Epoch 5/10\n",
            "189/189 [==============================] - 12s 62ms/step - loss: 0.3917 - accuracy: 0.8881 - val_loss: 1.8954 - val_accuracy: 0.6870\n",
            "Epoch 6/10\n",
            "189/189 [==============================] - 12s 61ms/step - loss: nan - accuracy: 0.2834 - val_loss: nan - val_accuracy: 0.0522\n",
            "Epoch 7/10\n",
            "189/189 [==============================] - 12s 62ms/step - loss: nan - accuracy: 0.0660 - val_loss: nan - val_accuracy: 0.0522\n",
            "Epoch 8/10\n",
            "189/189 [==============================] - 12s 64ms/step - loss: nan - accuracy: 0.0660 - val_loss: nan - val_accuracy: 0.0522\n",
            "Epoch 9/10\n",
            "189/189 [==============================] - 12s 62ms/step - loss: nan - accuracy: 0.0660 - val_loss: nan - val_accuracy: 0.0522\n",
            "Epoch 10/10\n",
            "189/189 [==============================] - 12s 62ms/step - loss: nan - accuracy: 0.0660 - val_loss: nan - val_accuracy: 0.0522\n"
          ]
        }
      ]
    },
    {
      "cell_type": "markdown",
      "metadata": {
        "id": "NmZLiQV3L_qr"
      },
      "source": [
        "Dalam 10 epoch, model ini telah meningkatkan akurasinya pada 5 epoch pertama namun pada epoch ke 6 sampai terakhir terdapat penurunan yang signifikan, penurunan ini masih diselidiki. Lalu saya akan membuat model lain untuk memberikan sebuah improvement."
      ]
    },
    {
      "cell_type": "markdown",
      "metadata": {
        "id": "Zi3u39sMgsHN"
      },
      "source": [
        "# **MODEL EVALUATION**"
      ]
    },
    {
      "cell_type": "code",
      "metadata": {
        "id": "OCBOvAeeguwE"
      },
      "source": [
        "def evaluate_nn(model, X_train, X_test, y_train, y_test):\n",
        "    \n",
        "    \"\"\" \n",
        "\n",
        "    This function takes in a fitted neural net and uses the evaluate function to \n",
        "    return performance for train and test sets in an easy to read format\n",
        "\n",
        "    \"\"\"\n",
        "        \n",
        "    results_train = model.evaluate(X_train_token, y_train_enc)\n",
        "    results_test = model.evaluate(X_test_token, y_test_enc)\n",
        "\n",
        "    print('----------')\n",
        "    print(f'Training Loss: {results_train[0]:.3} \\nTraining Accuracy: {results_train[1]:.3}')\n",
        "    print('----------')\n",
        "    print(f'Test Loss: {results_test[0]:.3} \\nTest Accuracy: {results_test[1]:.3}')"
      ],
      "execution_count": null,
      "outputs": []
    },
    {
      "cell_type": "code",
      "metadata": {
        "colab": {
          "base_uri": "https://localhost:8080/"
        },
        "id": "EJc0lhpygzcA",
        "outputId": "eb6c8dd4-0265-4180-8a32-a1497d09a0cf"
      },
      "source": [
        "#plugging my 'baseline' neural net into this function\n",
        "evaluate_nn(model1, X_train_token, X_test_token, y_train_enc, y_test_enc)"
      ],
      "execution_count": null,
      "outputs": [
        {
          "output_type": "stream",
          "name": "stdout",
          "text": [
            "210/210 [==============================] - 3s 12ms/step - loss: nan - accuracy: 0.0646\n",
            "70/70 [==============================] - 1s 12ms/step - loss: nan - accuracy: 0.0613\n",
            "----------\n",
            "Training Loss: nan \n",
            "Training Accuracy: 0.0646\n",
            "----------\n",
            "Test Loss: nan \n",
            "Test Accuracy: 0.0613\n"
          ]
        }
      ]
    },
    {
      "cell_type": "code",
      "metadata": {
        "colab": {
          "base_uri": "https://localhost:8080/",
          "height": 312
        },
        "id": "6i1fElxIo9uj",
        "outputId": "f39b3488-56d2-4232-eecd-5aa9af434833"
      },
      "source": [
        "#access history attribute to get the record\n",
        "history = model_val.history\n",
        "\n",
        "#plot loss and then accuracy over time\n",
        "plt.figure()\n",
        "plt.plot(history['loss'])\n",
        "plt.title('Loss')\n",
        "plt.xlabel('Epochs')\n",
        "plt.ylabel('Loss')"
      ],
      "execution_count": null,
      "outputs": [
        {
          "output_type": "execute_result",
          "data": {
            "text/plain": [
              "Text(0, 0.5, 'Loss')"
            ]
          },
          "metadata": {},
          "execution_count": 463
        },
        {
          "output_type": "display_data",
          "data": {
            "image/png": "[encoded data removed]",
            "text/plain": [
              "<Figure size 432x288 with 1 Axes>"
            ]
          },
          "metadata": {
            "needs_background": "light"
          }
        }
      ]
    },
    {
      "cell_type": "code",
      "metadata": {
        "colab": {
          "base_uri": "https://localhost:8080/",
          "height": 312
        },
        "id": "3nXImC-rpfjB",
        "outputId": "862c95e1-e447-43d8-8436-b704731526c4"
      },
      "source": [
        "plt.figure()\n",
        "plt.plot(history['accuracy'])\n",
        "plt.title('Accuracy')\n",
        "plt.xlabel('Epochs')\n",
        "plt.ylabel('Accuracy')"
      ],
      "execution_count": null,
      "outputs": [
        {
          "output_type": "execute_result",
          "data": {
            "text/plain": [
              "Text(0, 0.5, 'Accuracy')"
            ]
          },
          "metadata": {},
          "execution_count": 464
        },
        {
          "output_type": "display_data",
          "data": {
            "image/png": "[encoded data removed]",
            "text/plain": [
              "<Figure size 432x288 with 1 Axes>"
            ]
          },
          "metadata": {
            "needs_background": "light"
          }
        }
      ]
    },
    {
      "cell_type": "markdown",
      "metadata": {
        "id": "t2q267XihuLL"
      },
      "source": [
        "# **MODEL IMPROVEMENT**"
      ]
    },
    {
      "cell_type": "code",
      "metadata": {
        "id": "T6hyfYpBhAUq"
      },
      "source": [
        "#new model with dropout layers\n",
        "np.random.seed(10)\n",
        "model2 = Sequential()"
      ],
      "execution_count": null,
      "outputs": []
    },
    {
      "cell_type": "code",
      "metadata": {
        "id": "ldUP1uGNhBwT"
      },
      "source": [
        "model2.add(Embedding(10000, embedding_size))\n",
        "model2.add(LSTM(25, return_sequences=True))\n",
        "model2.add(GlobalMaxPool1D())\n",
        "model2.add(Dropout(0.5))\n",
        "model2.add(Dense(50, activation='relu'))\n",
        "model2.add(Dropout(0.5))\n",
        "model2.add(Dense(3, activation='softmax'))"
      ],
      "execution_count": null,
      "outputs": []
    },
    {
      "cell_type": "code",
      "metadata": {
        "id": "rsnjo-oihFLq"
      },
      "source": [
        "model2.compile(loss='categorical_crossentropy', \n",
        "              optimizer='adam', \n",
        "              metrics=['accuracy'])"
      ],
      "execution_count": null,
      "outputs": []
    },
    {
      "cell_type": "code",
      "metadata": {
        "colab": {
          "base_uri": "https://localhost:8080/"
        },
        "id": "AakmE6pWhIiV",
        "outputId": "9fe881c8-7574-46d2-e16f-19a7e1faef8f"
      },
      "source": [
        "model2.summary()"
      ],
      "execution_count": null,
      "outputs": [
        {
          "output_type": "stream",
          "name": "stdout",
          "text": [
            "Model: \"sequential_16\"\n",
            "_________________________________________________________________\n",
            "Layer (type)                 Output Shape              Param #   \n",
            "=================================================================\n",
            "embedding_16 (Embedding)     (None, None, 100)         1000000   \n",
            "_________________________________________________________________\n",
            "lstm_16 (LSTM)               (None, None, 25)          12600     \n",
            "_________________________________________________________________\n",
            "global_max_pooling1d_16 (Glo (None, 25)                0         \n",
            "_________________________________________________________________\n",
            "dropout_20 (Dropout)         (None, 25)                0         \n",
            "_________________________________________________________________\n",
            "dense_32 (Dense)             (None, 50)                1300      \n",
            "_________________________________________________________________\n",
            "dropout_21 (Dropout)         (None, 50)                0         \n",
            "_________________________________________________________________\n",
            "dense_33 (Dense)             (None, 3)                 153       \n",
            "=================================================================\n",
            "Total params: 1,014,053\n",
            "Trainable params: 1,014,053\n",
            "Non-trainable params: 0\n",
            "_________________________________________________________________\n"
          ]
        }
      ]
    },
    {
      "cell_type": "code",
      "metadata": {
        "colab": {
          "base_uri": "https://localhost:8080/",
          "height": 865
        },
        "id": "d8x_qQF-3hMo",
        "outputId": "bad35764-8fd7-4e00-df4c-266023f2076a"
      },
      "source": [
        "keras.utils.plot_model(model2, \"model2_function.png\", show_shapes=True)"
      ],
      "execution_count": null,
      "outputs": [
        {
          "output_type": "execute_result",
          "data": {
            "image/png": "[encoded data removed]",
            "text/plain": [
              "<IPython.core.display.Image object>"
            ]
          },
          "metadata": {},
          "execution_count": 469
        }
      ]
    },
    {
      "cell_type": "code",
      "metadata": {
        "colab": {
          "base_uri": "https://localhost:8080/"
        },
        "id": "bYP9v4trhNTU",
        "outputId": "5e89771c-40ac-4769-a7dd-ae017c55e78c"
      },
      "source": [
        "# increasing epochs to 15\n",
        "model2_val = model2.fit(X_train_token, y_train_enc,\n",
        "                        epochs=15, batch_size=32)"
      ],
      "execution_count": null,
      "outputs": [
        {
          "output_type": "stream",
          "name": "stdout",
          "text": [
            "Epoch 1/15\n",
            "210/210 [==============================] - 15s 61ms/step - loss: 0.9010 - accuracy: 0.5922\n",
            "Epoch 2/15\n",
            "210/210 [==============================] - 13s 61ms/step - loss: 0.7888 - accuracy: 0.6246\n",
            "Epoch 3/15\n",
            "210/210 [==============================] - 13s 61ms/step - loss: 0.6505 - accuracy: 0.7123\n",
            "Epoch 4/15\n",
            "210/210 [==============================] - 13s 61ms/step - loss: 0.5300 - accuracy: 0.7886\n",
            "Epoch 5/15\n",
            "210/210 [==============================] - 13s 61ms/step - loss: 0.4364 - accuracy: 0.8380\n",
            "Epoch 6/15\n",
            "210/210 [==============================] - 13s 61ms/step - loss: 0.3478 - accuracy: 0.8703\n",
            "Epoch 7/15\n",
            "210/210 [==============================] - 13s 60ms/step - loss: 0.2934 - accuracy: 0.8881\n",
            "Epoch 8/15\n",
            "210/210 [==============================] - 13s 61ms/step - loss: 0.2562 - accuracy: 0.8963\n",
            "Epoch 9/15\n",
            "210/210 [==============================] - 13s 60ms/step - loss: 0.2358 - accuracy: 0.9072\n",
            "Epoch 10/15\n",
            "210/210 [==============================] - 13s 60ms/step - loss: 0.2135 - accuracy: 0.9164\n",
            "Epoch 11/15\n",
            "210/210 [==============================] - 13s 61ms/step - loss: 0.1949 - accuracy: 0.9206\n",
            "Epoch 12/15\n",
            "210/210 [==============================] - 13s 60ms/step - loss: 0.1865 - accuracy: 0.9239\n",
            "Epoch 13/15\n",
            "210/210 [==============================] - 13s 61ms/step - loss: 0.1739 - accuracy: 0.9255\n",
            "Epoch 14/15\n",
            "210/210 [==============================] - 13s 61ms/step - loss: 0.1710 - accuracy: 0.9305\n",
            "Epoch 15/15\n",
            "210/210 [==============================] - 13s 60ms/step - loss: 0.1629 - accuracy: 0.9324\n"
          ]
        }
      ]
    },
    {
      "cell_type": "code",
      "metadata": {
        "colab": {
          "base_uri": "https://localhost:8080/"
        },
        "id": "cPVSfbLpohpE",
        "outputId": "1a9a9869-35ee-4699-f661-3fdcd2ca7c58"
      },
      "source": [
        "evaluate_nn(model2, X_train_token, X_test_token, y_train_enc, y_test_enc)"
      ],
      "execution_count": null,
      "outputs": [
        {
          "output_type": "stream",
          "name": "stdout",
          "text": [
            "210/210 [==============================] - 3s 12ms/step - loss: 0.1139 - accuracy: 0.9481\n",
            "70/70 [==============================] - 1s 12ms/step - loss: 1.9991 - accuracy: 0.6546\n",
            "----------\n",
            "Training Loss: 0.114 \n",
            "Training Accuracy: 0.948\n",
            "----------\n",
            "Test Loss: 2.0 \n",
            "Test Accuracy: 0.655\n"
          ]
        }
      ]
    },
    {
      "cell_type": "markdown",
      "metadata": {
        "id": "_wwe6duLNDsZ"
      },
      "source": [
        "Skor akurasi meningkat cukup cepat, tetapi tampaknya model kedua masih belum mendapatkan akuras set tes yang baik.\n",
        "\n",
        "Masih banyak pilihan yang dapat digunakan untuk melakukan improvement. Sebagai langkah selanjutnya, saya akan menerapkan, regularisasi L2 dan menjalankan lebih banyak epoch. Saya juga akan menambahkan early stopping agar dapat memangkas runtime yang tidak perlu."
      ]
    },
    {
      "cell_type": "code",
      "metadata": {
        "colab": {
          "base_uri": "https://localhost:8080/",
          "height": 312
        },
        "id": "-hgzDsLqo0xu",
        "outputId": "02c223a0-d671-403e-f9ce-b3c6ee165779"
      },
      "source": [
        "#access history attribute to get the record\n",
        "history = model2_val.history\n",
        "\n",
        "#plot loss and then accuracy over time\n",
        "plt.figure()\n",
        "plt.plot(history['loss'])\n",
        "plt.title('Loss')\n",
        "plt.xlabel('Epochs')\n",
        "plt.ylabel('Loss')"
      ],
      "execution_count": null,
      "outputs": [
        {
          "output_type": "execute_result",
          "data": {
            "text/plain": [
              "Text(0, 0.5, 'Loss')"
            ]
          },
          "metadata": {},
          "execution_count": 472
        },
        {
          "output_type": "display_data",
          "data": {
            "image/png": "[encoded data removed]",
            "text/plain": [
              "<Figure size 432x288 with 1 Axes>"
            ]
          },
          "metadata": {
            "needs_background": "light"
          }
        }
      ]
    },
    {
      "cell_type": "code",
      "metadata": {
        "colab": {
          "base_uri": "https://localhost:8080/",
          "height": 312
        },
        "id": "gm6apaVApYnV",
        "outputId": "795e4ff8-4fbb-419b-e766-b3e9b2e7fe45"
      },
      "source": [
        "plt.figure()\n",
        "plt.plot(history['accuracy'])\n",
        "plt.title('Accuracy')\n",
        "plt.xlabel('Epochs')\n",
        "plt.ylabel('Accuracy')"
      ],
      "execution_count": null,
      "outputs": [
        {
          "output_type": "execute_result",
          "data": {
            "text/plain": [
              "Text(0, 0.5, 'Accuracy')"
            ]
          },
          "metadata": {},
          "execution_count": 473
        },
        {
          "output_type": "display_data",
          "data": {
            "image/png": "[encoded data removed]",
            "text/plain": [
              "<Figure size 432x288 with 1 Axes>"
            ]
          },
          "metadata": {
            "needs_background": "light"
          }
        }
      ]
    },
    {
      "cell_type": "markdown",
      "metadata": {
        "id": "YmAQGNA3jW1l"
      },
      "source": [
        "**MENGGUNAKAN MODEL L2 REGULARIZATION**"
      ]
    },
    {
      "cell_type": "code",
      "metadata": {
        "id": "sGorlje5jbX4"
      },
      "source": [
        "early_stopping = [EarlyStopping(monitor='accuracy', patience=10)]"
      ],
      "execution_count": null,
      "outputs": []
    },
    {
      "cell_type": "code",
      "metadata": {
        "id": "eKGp-JVtj6Yn"
      },
      "source": [
        "#applying L2 regularization layer\n",
        "np.random.seed(10)\n",
        "l2_model = Sequential()\n",
        "\n",
        "l2_model.add(Embedding(10000, embedding_size))\n",
        "l2_model.add(LSTM(25, return_sequences=True))\n",
        "l2_model.add(GlobalMaxPool1D())\n",
        "l2_model.add(Dropout(0.5))\n",
        "l2_model.add(Dense(50, activation='relu', kernel_regularizer=regularizers.l2(0.005)))\n",
        "l2_model.add(Dropout(0.5))\n",
        "l2_model.add(Dense(3, activation='softmax'))"
      ],
      "execution_count": null,
      "outputs": []
    },
    {
      "cell_type": "code",
      "metadata": {
        "id": "_jBFMieRkTjp"
      },
      "source": [
        "l2_model.compile(loss='categorical_crossentropy', \n",
        "              optimizer='adam', \n",
        "              metrics=['accuracy'])"
      ],
      "execution_count": null,
      "outputs": []
    },
    {
      "cell_type": "code",
      "metadata": {
        "colab": {
          "base_uri": "https://localhost:8080/"
        },
        "id": "nsfGHkYh3zqI",
        "outputId": "6bc5ec45-410c-49a3-e73c-04a39a30a72f"
      },
      "source": [
        "l2_model.summary()"
      ],
      "execution_count": null,
      "outputs": [
        {
          "output_type": "stream",
          "name": "stdout",
          "text": [
            "Model: \"sequential_17\"\n",
            "_________________________________________________________________\n",
            "Layer (type)                 Output Shape              Param #   \n",
            "=================================================================\n",
            "embedding_17 (Embedding)     (None, None, 100)         1000000   \n",
            "_________________________________________________________________\n",
            "lstm_17 (LSTM)               (None, None, 25)          12600     \n",
            "_________________________________________________________________\n",
            "global_max_pooling1d_17 (Glo (None, 25)                0         \n",
            "_________________________________________________________________\n",
            "dropout_22 (Dropout)         (None, 25)                0         \n",
            "_________________________________________________________________\n",
            "dense_34 (Dense)             (None, 50)                1300      \n",
            "_________________________________________________________________\n",
            "dropout_23 (Dropout)         (None, 50)                0         \n",
            "_________________________________________________________________\n",
            "dense_35 (Dense)             (None, 3)                 153       \n",
            "=================================================================\n",
            "Total params: 1,014,053\n",
            "Trainable params: 1,014,053\n",
            "Non-trainable params: 0\n",
            "_________________________________________________________________\n"
          ]
        }
      ]
    },
    {
      "cell_type": "code",
      "metadata": {
        "colab": {
          "base_uri": "https://localhost:8080/",
          "height": 865
        },
        "id": "7N9QOj8L322v",
        "outputId": "d93fc155-138e-4412-86e0-24d5585d9fad"
      },
      "source": [
        "keras.utils.plot_model(l2_model, \"l2_model_function.png\", show_shapes=True)"
      ],
      "execution_count": null,
      "outputs": [
        {
          "output_type": "execute_result",
          "data": {
            "image/png": "[encoded data removed]",
            "text/plain": [
              "<IPython.core.display.Image object>"
            ]
          },
          "metadata": {},
          "execution_count": 478
        }
      ]
    },
    {
      "cell_type": "code",
      "metadata": {
        "colab": {
          "base_uri": "https://localhost:8080/"
        },
        "id": "tpwPbvIOkaHn",
        "outputId": "db2108f9-8928-4b5a-8312-57ab8dae8894"
      },
      "source": [
        "#increasing epochs to 50\n",
        "l2_model_val = l2_model.fit(X_train_token, y_train_enc, \n",
        "                            epochs=50, \n",
        "                            batch_size=256, \n",
        "                            callbacks=early_stopping)"
      ],
      "execution_count": null,
      "outputs": [
        {
          "output_type": "stream",
          "name": "stdout",
          "text": [
            "Epoch 1/50\n",
            "27/27 [==============================] - 6s 132ms/step - loss: 1.1652 - accuracy: 0.5492\n",
            "Epoch 2/50\n",
            "27/27 [==============================] - 4s 133ms/step - loss: 1.0243 - accuracy: 0.5789\n",
            "Epoch 3/50\n",
            "27/27 [==============================] - 4s 130ms/step - loss: 0.9751 - accuracy: 0.5915\n",
            "Epoch 4/50\n",
            "27/27 [==============================] - 4s 131ms/step - loss: 0.9468 - accuracy: 0.5965\n",
            "Epoch 5/50\n",
            "27/27 [==============================] - 4s 132ms/step - loss: 0.8971 - accuracy: 0.6180\n",
            "Epoch 6/50\n",
            "27/27 [==============================] - 4s 133ms/step - loss: 0.8130 - accuracy: 0.6653\n",
            "Epoch 7/50\n",
            "27/27 [==============================] - 4s 130ms/step - loss: 0.7128 - accuracy: 0.7302\n",
            "Epoch 8/50\n",
            "27/27 [==============================] - 4s 131ms/step - loss: 0.6377 - accuracy: 0.7756\n",
            "Epoch 9/50\n",
            "27/27 [==============================] - 4s 130ms/step - loss: 0.5760 - accuracy: 0.8089\n",
            "Epoch 10/50\n",
            "27/27 [==============================] - 4s 131ms/step - loss: 0.5229 - accuracy: 0.8277\n",
            "Epoch 11/50\n",
            "27/27 [==============================] - 4s 133ms/step - loss: 0.4762 - accuracy: 0.8363\n",
            "Epoch 12/50\n",
            "27/27 [==============================] - 4s 132ms/step - loss: 0.4343 - accuracy: 0.8471\n",
            "Epoch 13/50\n",
            "27/27 [==============================] - 4s 134ms/step - loss: 0.4030 - accuracy: 0.8539\n",
            "Epoch 14/50\n",
            "27/27 [==============================] - 4s 132ms/step - loss: 0.3800 - accuracy: 0.8565\n",
            "Epoch 15/50\n",
            "27/27 [==============================] - 4s 133ms/step - loss: 0.3564 - accuracy: 0.8620\n",
            "Epoch 16/50\n",
            "27/27 [==============================] - 4s 132ms/step - loss: 0.3251 - accuracy: 0.8796\n",
            "Epoch 17/50\n",
            "27/27 [==============================] - 4s 131ms/step - loss: 0.3080 - accuracy: 0.8938\n",
            "Epoch 18/50\n",
            "27/27 [==============================] - 4s 133ms/step - loss: 0.2986 - accuracy: 0.9054\n",
            "Epoch 19/50\n",
            "27/27 [==============================] - 4s 135ms/step - loss: 0.2821 - accuracy: 0.9094\n",
            "Epoch 20/50\n",
            "27/27 [==============================] - 4s 133ms/step - loss: 0.2653 - accuracy: 0.9169\n",
            "Epoch 21/50\n",
            "27/27 [==============================] - 4s 132ms/step - loss: 0.2492 - accuracy: 0.9196\n",
            "Epoch 22/50\n",
            "27/27 [==============================] - 4s 132ms/step - loss: 0.2313 - accuracy: 0.9244\n",
            "Epoch 23/50\n",
            "27/27 [==============================] - 4s 132ms/step - loss: 0.2320 - accuracy: 0.9285\n",
            "Epoch 24/50\n",
            "27/27 [==============================] - 4s 132ms/step - loss: 0.2299 - accuracy: 0.9211\n",
            "Epoch 25/50\n",
            "27/27 [==============================] - 4s 134ms/step - loss: 0.2146 - accuracy: 0.9284\n",
            "Epoch 26/50\n",
            "27/27 [==============================] - 4s 132ms/step - loss: 0.2112 - accuracy: 0.9302\n",
            "Epoch 27/50\n",
            "27/27 [==============================] - 4s 133ms/step - loss: 0.2028 - accuracy: 0.9321\n",
            "Epoch 28/50\n",
            "27/27 [==============================] - 4s 133ms/step - loss: 0.1959 - accuracy: 0.9340\n",
            "Epoch 29/50\n",
            "27/27 [==============================] - 4s 131ms/step - loss: 0.1942 - accuracy: 0.9363\n",
            "Epoch 30/50\n",
            "27/27 [==============================] - 4s 132ms/step - loss: 0.1906 - accuracy: 0.9354\n",
            "Epoch 31/50\n",
            "27/27 [==============================] - 4s 134ms/step - loss: 0.1830 - accuracy: 0.9367\n",
            "Epoch 32/50\n",
            "27/27 [==============================] - 4s 131ms/step - loss: 0.1855 - accuracy: 0.9372\n",
            "Epoch 33/50\n",
            "27/27 [==============================] - 4s 134ms/step - loss: 0.1811 - accuracy: 0.9379\n",
            "Epoch 34/50\n",
            "27/27 [==============================] - 4s 134ms/step - loss: 0.1715 - accuracy: 0.9363\n",
            "Epoch 35/50\n",
            "27/27 [==============================] - 4s 132ms/step - loss: 0.1688 - accuracy: 0.9390\n",
            "Epoch 36/50\n",
            "27/27 [==============================] - 4s 133ms/step - loss: 0.1684 - accuracy: 0.9423\n",
            "Epoch 37/50\n",
            "27/27 [==============================] - 4s 133ms/step - loss: 0.1610 - accuracy: 0.9432\n",
            "Epoch 38/50\n",
            "27/27 [==============================] - 4s 133ms/step - loss: 0.1609 - accuracy: 0.9448\n",
            "Epoch 39/50\n",
            "27/27 [==============================] - 4s 133ms/step - loss: 0.1561 - accuracy: 0.9460\n",
            "Epoch 40/50\n",
            "27/27 [==============================] - 4s 133ms/step - loss: 0.1570 - accuracy: 0.9430\n",
            "Epoch 41/50\n",
            "27/27 [==============================] - 4s 132ms/step - loss: 0.1579 - accuracy: 0.9432\n",
            "Epoch 42/50\n",
            "27/27 [==============================] - 4s 135ms/step - loss: 0.1557 - accuracy: 0.9437\n",
            "Epoch 43/50\n",
            "27/27 [==============================] - 4s 135ms/step - loss: 0.1520 - accuracy: 0.9455\n",
            "Epoch 44/50\n",
            "27/27 [==============================] - 4s 134ms/step - loss: 0.1547 - accuracy: 0.9445\n",
            "Epoch 45/50\n",
            "27/27 [==============================] - 4s 134ms/step - loss: 0.1443 - accuracy: 0.9487\n",
            "Epoch 46/50\n",
            "27/27 [==============================] - 4s 133ms/step - loss: 0.1435 - accuracy: 0.9476\n",
            "Epoch 47/50\n",
            "27/27 [==============================] - 4s 133ms/step - loss: 0.1527 - accuracy: 0.9452\n",
            "Epoch 48/50\n",
            "27/27 [==============================] - 4s 133ms/step - loss: 0.1425 - accuracy: 0.9490\n",
            "Epoch 49/50\n",
            "27/27 [==============================] - 4s 134ms/step - loss: 0.1384 - accuracy: 0.9497\n",
            "Epoch 50/50\n",
            "27/27 [==============================] - 4s 134ms/step - loss: 0.1365 - accuracy: 0.9515\n"
          ]
        }
      ]
    },
    {
      "cell_type": "code",
      "metadata": {
        "colab": {
          "base_uri": "https://localhost:8080/"
        },
        "id": "E9qlY64Jl06z",
        "outputId": "2260c7d3-f5b9-42ac-f449-a7cd012e7fe7"
      },
      "source": [
        "evaluate_nn(l2_model, X_train_token, X_test_token, y_train_enc, y_test_enc)"
      ],
      "execution_count": null,
      "outputs": [
        {
          "output_type": "stream",
          "name": "stdout",
          "text": [
            "210/210 [==============================] - 3s 12ms/step - loss: 0.1042 - accuracy: 0.9614\n",
            "70/70 [==============================] - 1s 12ms/step - loss: 1.8863 - accuracy: 0.6550\n",
            "----------\n",
            "Training Loss: 0.104 \n",
            "Training Accuracy: 0.961\n",
            "----------\n",
            "Test Loss: 1.89 \n",
            "Test Accuracy: 0.655\n"
          ]
        }
      ]
    },
    {
      "cell_type": "markdown",
      "metadata": {
        "id": "vrRRIHE-N3vF"
      },
      "source": [
        "Pada model L2 Regression dihasilkan training accuracy tertinggi dibandungkan dengan model-model sebelumnya, tetapi regularisasi tidak terlalu membantu untuk meningkatkan skor test accuracy. Model selanjutnya yang akan dicoba adalah regularisasi L1."
      ]
    },
    {
      "cell_type": "code",
      "metadata": {
        "colab": {
          "base_uri": "https://localhost:8080/",
          "height": 312
        },
        "id": "nN9A7NdgotW4",
        "outputId": "54827c34-4894-4562-e983-00a7427607b5"
      },
      "source": [
        "#access history attribute to get the record\n",
        "history = l2_model_val.history\n",
        "\n",
        "#plot loss and then accuracy over time\n",
        "plt.figure()\n",
        "plt.plot(history['loss'])\n",
        "plt.title('Loss')\n",
        "plt.xlabel('Epochs')\n",
        "plt.ylabel('Loss')"
      ],
      "execution_count": null,
      "outputs": [
        {
          "output_type": "execute_result",
          "data": {
            "text/plain": [
              "Text(0, 0.5, 'Loss')"
            ]
          },
          "metadata": {},
          "execution_count": 481
        },
        {
          "output_type": "display_data",
          "data": {
            "image/png": "[encoded data removed]",
            "text/plain": [
              "<Figure size 432x288 with 1 Axes>"
            ]
          },
          "metadata": {
            "needs_background": "light"
          }
        }
      ]
    },
    {
      "cell_type": "code",
      "metadata": {
        "colab": {
          "base_uri": "https://localhost:8080/",
          "height": 312
        },
        "id": "YnaGiD7hpTK9",
        "outputId": "7f7633e2-d29c-43a9-b4fb-2595c7b517e5"
      },
      "source": [
        "plt.figure()\n",
        "plt.plot(history['accuracy'])\n",
        "plt.title('Accuracy')\n",
        "plt.xlabel('Epochs')\n",
        "plt.ylabel('Accuracy')"
      ],
      "execution_count": null,
      "outputs": [
        {
          "output_type": "execute_result",
          "data": {
            "text/plain": [
              "Text(0, 0.5, 'Accuracy')"
            ]
          },
          "metadata": {},
          "execution_count": 482
        },
        {
          "output_type": "display_data",
          "data": {
            "image/png": "[encoded data removed]",
            "text/plain": [
              "<Figure size 432x288 with 1 Axes>"
            ]
          },
          "metadata": {
            "needs_background": "light"
          }
        }
      ]
    },
    {
      "cell_type": "markdown",
      "metadata": {
        "id": "Aee1EO2GlY9c"
      },
      "source": [
        "**MENGGUNAKAN MODEL L1 REGULARIZATION**"
      ]
    },
    {
      "cell_type": "code",
      "metadata": {
        "id": "Tvs7PgYal-tU"
      },
      "source": [
        "#adding L1 regulairzer layer\n",
        "np.random.seed(10)\n",
        "l1_model = Sequential()"
      ],
      "execution_count": null,
      "outputs": []
    },
    {
      "cell_type": "code",
      "metadata": {
        "id": "HNdJjTK8mXdw"
      },
      "source": [
        "l1_model.add(Embedding(10000, embedding_size))\n",
        "l1_model.add(LSTM(25, return_sequences=True))\n",
        "l1_model.add(GlobalMaxPool1D())\n",
        "l1_model.add(Dropout(0.5))\n",
        "l1_model.add(Dense(50, activation='relu', kernel_regularizer=regularizers.l1(0.005)))\n",
        "l1_model.add(Dropout(0.5))\n",
        "l1_model.add(Dense(3, activation='softmax'))"
      ],
      "execution_count": null,
      "outputs": []
    },
    {
      "cell_type": "code",
      "metadata": {
        "id": "alxcpHkqmd2C"
      },
      "source": [
        "l1_model.compile(loss='categorical_crossentropy', \n",
        "              optimizer='adam', \n",
        "              metrics=['accuracy'])"
      ],
      "execution_count": null,
      "outputs": []
    },
    {
      "cell_type": "code",
      "metadata": {
        "colab": {
          "base_uri": "https://localhost:8080/"
        },
        "id": "ro7BGyP94Fc4",
        "outputId": "d4dece05-86d4-4c84-c6bd-9ad2310977d9"
      },
      "source": [
        "l1_model.summary()"
      ],
      "execution_count": null,
      "outputs": [
        {
          "output_type": "stream",
          "name": "stdout",
          "text": [
            "Model: \"sequential_18\"\n",
            "_________________________________________________________________\n",
            "Layer (type)                 Output Shape              Param #   \n",
            "=================================================================\n",
            "embedding_18 (Embedding)     (None, None, 100)         1000000   \n",
            "_________________________________________________________________\n",
            "lstm_18 (LSTM)               (None, None, 25)          12600     \n",
            "_________________________________________________________________\n",
            "global_max_pooling1d_18 (Glo (None, 25)                0         \n",
            "_________________________________________________________________\n",
            "dropout_24 (Dropout)         (None, 25)                0         \n",
            "_________________________________________________________________\n",
            "dense_36 (Dense)             (None, 50)                1300      \n",
            "_________________________________________________________________\n",
            "dropout_25 (Dropout)         (None, 50)                0         \n",
            "_________________________________________________________________\n",
            "dense_37 (Dense)             (None, 3)                 153       \n",
            "=================================================================\n",
            "Total params: 1,014,053\n",
            "Trainable params: 1,014,053\n",
            "Non-trainable params: 0\n",
            "_________________________________________________________________\n"
          ]
        }
      ]
    },
    {
      "cell_type": "code",
      "metadata": {
        "colab": {
          "base_uri": "https://localhost:8080/",
          "height": 865
        },
        "id": "xmgnO1DW4JkF",
        "outputId": "a4ca08e4-7f4a-4878-d0d8-252951bd2e1f"
      },
      "source": [
        "keras.utils.plot_model(l1_model, \"l1_model_function.png\", show_shapes=True)"
      ],
      "execution_count": null,
      "outputs": [
        {
          "output_type": "execute_result",
          "data": {
            "image/png": "[encoded data removed]",
            "text/plain": [
              "<IPython.core.display.Image object>"
            ]
          },
          "metadata": {},
          "execution_count": 487
        }
      ]
    },
    {
      "cell_type": "code",
      "metadata": {
        "colab": {
          "base_uri": "https://localhost:8080/"
        },
        "id": "avsAEZTomk1y",
        "outputId": "3a29dd6f-0bcb-4eae-81a9-440075cf47c2"
      },
      "source": [
        "l1_model_val = l1_model.fit(X_train_token, y_train_enc, \n",
        "                            epochs=50, \n",
        "                            batch_size=256, \n",
        "                            callbacks=early_stopping)"
      ],
      "execution_count": null,
      "outputs": [
        {
          "output_type": "stream",
          "name": "stdout",
          "text": [
            "Epoch 1/50\n",
            "27/27 [==============================] - 6s 133ms/step - loss: 1.7972 - accuracy: 0.4827\n",
            "Epoch 2/50\n",
            "27/27 [==============================] - 4s 133ms/step - loss: 1.5649 - accuracy: 0.5964\n",
            "Epoch 3/50\n",
            "27/27 [==============================] - 4s 132ms/step - loss: 1.4294 - accuracy: 0.5955\n",
            "Epoch 4/50\n",
            "27/27 [==============================] - 4s 133ms/step - loss: 1.3044 - accuracy: 0.6067\n",
            "Epoch 5/50\n",
            "27/27 [==============================] - 4s 132ms/step - loss: 1.1974 - accuracy: 0.6056\n",
            "Epoch 6/50\n",
            "27/27 [==============================] - 4s 131ms/step - loss: 1.0908 - accuracy: 0.6082\n",
            "Epoch 7/50\n",
            "27/27 [==============================] - 4s 130ms/step - loss: 0.9867 - accuracy: 0.6244\n",
            "Epoch 8/50\n",
            "27/27 [==============================] - 4s 132ms/step - loss: 0.8844 - accuracy: 0.6601\n",
            "Epoch 9/50\n",
            "27/27 [==============================] - 4s 130ms/step - loss: 0.7959 - accuracy: 0.7073\n",
            "Epoch 10/50\n",
            "27/27 [==============================] - 4s 131ms/step - loss: 0.7277 - accuracy: 0.7457\n",
            "Epoch 11/50\n",
            "27/27 [==============================] - 4s 131ms/step - loss: 0.6598 - accuracy: 0.7813\n",
            "Epoch 12/50\n",
            "27/27 [==============================] - 4s 131ms/step - loss: 0.6362 - accuracy: 0.7926\n",
            "Epoch 13/50\n",
            "27/27 [==============================] - 4s 131ms/step - loss: 0.5882 - accuracy: 0.8101\n",
            "Epoch 14/50\n",
            "27/27 [==============================] - 4s 131ms/step - loss: 0.5636 - accuracy: 0.8207\n",
            "Epoch 15/50\n",
            "27/27 [==============================] - 4s 131ms/step - loss: 0.5373 - accuracy: 0.8371\n",
            "Epoch 16/50\n",
            "27/27 [==============================] - 4s 130ms/step - loss: 0.5201 - accuracy: 0.8344\n",
            "Epoch 17/50\n",
            "27/27 [==============================] - 4s 131ms/step - loss: 0.5102 - accuracy: 0.8420\n",
            "Epoch 18/50\n",
            "27/27 [==============================] - 4s 130ms/step - loss: 0.4842 - accuracy: 0.8459\n",
            "Epoch 19/50\n",
            "27/27 [==============================] - 4s 131ms/step - loss: 0.4656 - accuracy: 0.8500\n",
            "Epoch 20/50\n",
            "27/27 [==============================] - 4s 131ms/step - loss: 0.4612 - accuracy: 0.8511\n",
            "Epoch 21/50\n",
            "27/27 [==============================] - 4s 132ms/step - loss: 0.4492 - accuracy: 0.8533\n",
            "Epoch 22/50\n",
            "27/27 [==============================] - 4s 132ms/step - loss: 0.4331 - accuracy: 0.8577\n",
            "Epoch 23/50\n",
            "27/27 [==============================] - 4s 133ms/step - loss: 0.4327 - accuracy: 0.8565\n",
            "Epoch 24/50\n",
            "27/27 [==============================] - 4s 131ms/step - loss: 0.4116 - accuracy: 0.8585\n",
            "Epoch 25/50\n",
            "27/27 [==============================] - 4s 131ms/step - loss: 0.4046 - accuracy: 0.8606\n",
            "Epoch 26/50\n",
            "27/27 [==============================] - 4s 132ms/step - loss: 0.4007 - accuracy: 0.8644\n",
            "Epoch 27/50\n",
            "27/27 [==============================] - 4s 131ms/step - loss: 0.3970 - accuracy: 0.8651\n",
            "Epoch 28/50\n",
            "27/27 [==============================] - 4s 133ms/step - loss: 0.3976 - accuracy: 0.8694\n",
            "Epoch 29/50\n",
            "27/27 [==============================] - 4s 131ms/step - loss: 0.3944 - accuracy: 0.8753\n",
            "Epoch 30/50\n",
            "27/27 [==============================] - 4s 132ms/step - loss: 0.3770 - accuracy: 0.8842\n",
            "Epoch 31/50\n",
            "27/27 [==============================] - 4s 132ms/step - loss: 0.3788 - accuracy: 0.8848\n",
            "Epoch 32/50\n",
            "27/27 [==============================] - 4s 133ms/step - loss: 0.3646 - accuracy: 0.8967\n",
            "Epoch 33/50\n",
            "27/27 [==============================] - 4s 131ms/step - loss: 0.3592 - accuracy: 0.9000\n",
            "Epoch 34/50\n",
            "27/27 [==============================] - 4s 131ms/step - loss: 0.3478 - accuracy: 0.9002\n",
            "Epoch 35/50\n",
            "27/27 [==============================] - 4s 131ms/step - loss: 0.3543 - accuracy: 0.9024\n",
            "Epoch 36/50\n",
            "27/27 [==============================] - 4s 133ms/step - loss: 0.3472 - accuracy: 0.9060\n",
            "Epoch 37/50\n",
            "27/27 [==============================] - 4s 132ms/step - loss: 0.3377 - accuracy: 0.9105\n",
            "Epoch 38/50\n",
            "27/27 [==============================] - 4s 132ms/step - loss: 0.3399 - accuracy: 0.9066\n",
            "Epoch 39/50\n",
            "27/27 [==============================] - 4s 131ms/step - loss: 0.3350 - accuracy: 0.9091\n",
            "Epoch 40/50\n",
            "27/27 [==============================] - 4s 135ms/step - loss: 0.3696 - accuracy: 0.9050\n",
            "Epoch 41/50\n",
            "27/27 [==============================] - 4s 131ms/step - loss: 0.3325 - accuracy: 0.9076\n",
            "Epoch 42/50\n",
            "27/27 [==============================] - 4s 134ms/step - loss: 0.3221 - accuracy: 0.9132\n",
            "Epoch 43/50\n",
            "27/27 [==============================] - 4s 132ms/step - loss: 0.3129 - accuracy: 0.9182\n",
            "Epoch 44/50\n",
            "27/27 [==============================] - 4s 132ms/step - loss: 0.3186 - accuracy: 0.9133\n",
            "Epoch 45/50\n",
            "27/27 [==============================] - 4s 131ms/step - loss: 0.3185 - accuracy: 0.9129\n",
            "Epoch 46/50\n",
            "27/27 [==============================] - 4s 133ms/step - loss: 0.3113 - accuracy: 0.9190\n",
            "Epoch 47/50\n",
            "27/27 [==============================] - 4s 132ms/step - loss: 0.3108 - accuracy: 0.9194\n",
            "Epoch 48/50\n",
            "27/27 [==============================] - 4s 132ms/step - loss: 0.3039 - accuracy: 0.9188\n",
            "Epoch 49/50\n",
            "27/27 [==============================] - 4s 133ms/step - loss: 0.2965 - accuracy: 0.9214\n",
            "Epoch 50/50\n",
            "27/27 [==============================] - 4s 135ms/step - loss: 0.2993 - accuracy: 0.9184\n"
          ]
        }
      ]
    },
    {
      "cell_type": "code",
      "metadata": {
        "colab": {
          "base_uri": "https://localhost:8080/"
        },
        "id": "LIpQa-TToRoW",
        "outputId": "23e5fedb-f67f-47bc-9d69-e96decb1fc5b"
      },
      "source": [
        "evaluate_nn(l1_model, X_train_token, X_test_token, y_train_enc, y_test_enc)"
      ],
      "execution_count": null,
      "outputs": [
        {
          "output_type": "stream",
          "name": "stdout",
          "text": [
            "210/210 [==============================] - 3s 12ms/step - loss: 0.2327 - accuracy: 0.9387\n",
            "70/70 [==============================] - 1s 12ms/step - loss: 1.3461 - accuracy: 0.6268\n",
            "----------\n",
            "Training Loss: 0.233 \n",
            "Training Accuracy: 0.939\n",
            "----------\n",
            "Test Loss: 1.35 \n",
            "Test Accuracy: 0.627\n"
          ]
        }
      ]
    },
    {
      "cell_type": "markdown",
      "metadata": {
        "id": "oOS1OMnaO5wS"
      },
      "source": [
        "Setelah menerapkan L1 regression terlihat bahwa hasil training accuracy dan testing accuracy menurun dibandingkan dengan model L2 regression sehingga untuk percobaan kali ini model L2 regression mengungguli model-model lain\n",
        "\n",
        "\n"
      ]
    },
    {
      "cell_type": "code",
      "metadata": {
        "colab": {
          "base_uri": "https://localhost:8080/",
          "height": 312
        },
        "id": "wevjOmkPn8bj",
        "outputId": "679873e0-9a3f-4d95-9cf4-40fb5f3a53a2"
      },
      "source": [
        "#access history attribute to get the record\n",
        "history = l1_model_val.history\n",
        "\n",
        "#plot loss and then accuracy over time\n",
        "plt.figure()\n",
        "plt.plot(history['loss'])\n",
        "plt.title('Loss')\n",
        "plt.xlabel('Epochs')\n",
        "plt.ylabel('Loss')"
      ],
      "execution_count": null,
      "outputs": [
        {
          "output_type": "execute_result",
          "data": {
            "text/plain": [
              "Text(0, 0.5, 'Loss')"
            ]
          },
          "metadata": {},
          "execution_count": 490
        },
        {
          "output_type": "display_data",
          "data": {
            "image/png": "[encoded data removed]",
            "text/plain": [
              "<Figure size 432x288 with 1 Axes>"
            ]
          },
          "metadata": {
            "needs_background": "light"
          }
        }
      ]
    },
    {
      "cell_type": "code",
      "metadata": {
        "colab": {
          "base_uri": "https://localhost:8080/",
          "height": 312
        },
        "id": "W9qJ8605oHhE",
        "outputId": "5509a982-fd00-4707-955a-6716cf1d12c9"
      },
      "source": [
        "plt.figure()\n",
        "plt.plot(history['accuracy'])\n",
        "plt.title('Accuracy')\n",
        "plt.xlabel('Epochs')\n",
        "plt.ylabel('Accuracy')"
      ],
      "execution_count": null,
      "outputs": [
        {
          "output_type": "execute_result",
          "data": {
            "text/plain": [
              "Text(0, 0.5, 'Accuracy')"
            ]
          },
          "metadata": {},
          "execution_count": 491
        },
        {
          "output_type": "display_data",
          "data": {
            "image/png": "[encoded data removed]",
            "text/plain": [
              "<Figure size 432x288 with 1 Axes>"
            ]
          },
          "metadata": {
            "needs_background": "light"
          }
        }
      ]
    },
    {
      "cell_type": "markdown",
      "metadata": {
        "id": "UE0Vr0QNlZlJ"
      },
      "source": [
        "# **MODEL INFERENCE**"
      ]
    },
    {
      "cell_type": "code",
      "metadata": {
        "colab": {
          "base_uri": "https://localhost:8080/"
        },
        "id": "ZrJd9adgxTuS",
        "outputId": "51059d47-08d8-4b9c-d7b0-7e0015280e11"
      },
      "source": [
        "evaluate_nn(model1, X_train_token, X_test_token, y_train_enc, y_test_enc)"
      ],
      "execution_count": null,
      "outputs": [
        {
          "output_type": "stream",
          "name": "stdout",
          "text": [
            "210/210 [==============================] - 3s 12ms/step - loss: nan - accuracy: 0.0646\n",
            "70/70 [==============================] - 1s 12ms/step - loss: nan - accuracy: 0.0613\n",
            "----------\n",
            "Training Loss: nan \n",
            "Training Accuracy: 0.0646\n",
            "----------\n",
            "Test Loss: nan \n",
            "Test Accuracy: 0.0613\n"
          ]
        }
      ]
    },
    {
      "cell_type": "code",
      "metadata": {
        "colab": {
          "base_uri": "https://localhost:8080/"
        },
        "id": "YY_JWnK-x3zQ",
        "outputId": "af8b7551-e134-4a5b-890f-0fef314f706f"
      },
      "source": [
        "evaluate_nn(model2, X_train_token, X_test_token, y_train_enc, y_test_enc)"
      ],
      "execution_count": null,
      "outputs": [
        {
          "output_type": "stream",
          "name": "stdout",
          "text": [
            "210/210 [==============================] - 3s 12ms/step - loss: 0.1139 - accuracy: 0.9481\n",
            "70/70 [==============================] - 1s 12ms/step - loss: 1.9991 - accuracy: 0.6546\n",
            "----------\n",
            "Training Loss: 0.114 \n",
            "Training Accuracy: 0.948\n",
            "----------\n",
            "Test Loss: 2.0 \n",
            "Test Accuracy: 0.655\n"
          ]
        }
      ]
    },
    {
      "cell_type": "code",
      "metadata": {
        "colab": {
          "base_uri": "https://localhost:8080/"
        },
        "id": "7wfrToUDx8kL",
        "outputId": "81bce42c-a351-4ee6-a743-c9905beb737a"
      },
      "source": [
        "evaluate_nn(l2_model, X_train_token, X_test_token, y_train_enc, y_test_enc)"
      ],
      "execution_count": null,
      "outputs": [
        {
          "output_type": "stream",
          "name": "stdout",
          "text": [
            "210/210 [==============================] - 3s 12ms/step - loss: 0.1042 - accuracy: 0.9614\n",
            "70/70 [==============================] - 1s 12ms/step - loss: 1.8863 - accuracy: 0.6550\n",
            "----------\n",
            "Training Loss: 0.104 \n",
            "Training Accuracy: 0.961\n",
            "----------\n",
            "Test Loss: 1.89 \n",
            "Test Accuracy: 0.655\n"
          ]
        }
      ]
    },
    {
      "cell_type": "code",
      "metadata": {
        "colab": {
          "base_uri": "https://localhost:8080/"
        },
        "id": "rUYA6-gdyBLN",
        "outputId": "3785e161-4d98-4364-b88d-5b0e92eb9180"
      },
      "source": [
        "evaluate_nn(l1_model, X_train_token, X_test_token, y_train_enc, y_test_enc)"
      ],
      "execution_count": null,
      "outputs": [
        {
          "output_type": "stream",
          "name": "stdout",
          "text": [
            "210/210 [==============================] - 3s 12ms/step - loss: 0.2327 - accuracy: 0.9387\n",
            "70/70 [==============================] - 1s 12ms/step - loss: 1.3461 - accuracy: 0.6268\n",
            "----------\n",
            "Training Loss: 0.233 \n",
            "Training Accuracy: 0.939\n",
            "----------\n",
            "Test Loss: 1.35 \n",
            "Test Accuracy: 0.627\n"
          ]
        }
      ]
    },
    {
      "cell_type": "markdown",
      "metadata": {
        "id": "z4CrMDIEKZfr"
      },
      "source": [
        "# **MODEL ANALYSIS**"
      ]
    },
    {
      "cell_type": "markdown",
      "metadata": {
        "id": "3cNYHfsDKcVO"
      },
      "source": [
        "\n",
        "\n",
        "*   Pada percobaan kali ini dilakukan 4 pemodelan untuk menemukan model terbaik untuk melakukan sentimen analisis\n",
        "*   Model pertama dilakukan secara standar dengan epoch rendah yaitu 10 epoch dan dihasilkan hasil yang baik pada 5 epoch pertama akan tetapi 5 epoch selanjutnya nilai akurasi turun secara drastis. Hal ini masih diselidiki apa penyebab dari nilai akurasi yang turun drastis\n",
        "\n",
        "*   Dilakukan model improvement terhadap model pertama dengan membuat model kedua dengan menambahkan jumlah epoch dan terlihat bahwa model kedua menunjukkan kenikan nilai akurasi yang signifikan namun untuk akurasi testing set nya masih rendah\n",
        "*   Untuk mencari model terbaik maka dibuat model ketiga dengan L2 regression. Pada model ini ditambahkan early stopping yang bertujuan untuk dapat memangkas runtime yang tidak perlu. Hasil model ketiga menunjukkan nilai akurasi training yang lebih baik dibanding model-model sebelumnya namun sayangnya pada metode L2 regression ini masih belum bisa memperbaiki nilai akurasi testingnya\n",
        "\n",
        "*   Selain L2 regression terdapat L1 regression untuk dijadikan model keempat. Hasilnya nilai akurasi L1 regression menurun baik pada training set maupun testing set\n",
        "*   Kesimpulan dari percobaan empat model ini didapatkan model terbaik dengan menggunakan L2 regresssion\n",
        "\n",
        "\n",
        "\n",
        "\n",
        "\n"
      ]
    },
    {
      "cell_type": "markdown",
      "metadata": {
        "id": "whxC26v4R5pB"
      },
      "source": [
        "# **OVERALL ANALYSIS**"
      ]
    },
    {
      "cell_type": "markdown",
      "metadata": {
        "id": "s97cmELqSMB9"
      },
      "source": [
        "Dari semua iterasi model yang saya coba, model dengan menggunakan GloVe paling berhasil mencapai akurasi tinggi. Namun, setelah mencoba beberapa teknik berbeda, masalah overfitting masih belum terlalu membaik.\n",
        "\n",
        "model terbaik yang saya hasilkan memiliki akurasi pada training set sebesar 96.1% akan tetapi hasil akurasi pada testing set tidak sebaik training nya yaitu 65.5%. Model terbaik yang dihasilkan adalah model L2 regression"
      ]
    },
    {
      "cell_type": "markdown",
      "metadata": {
        "id": "1sL5-xLwTC0c"
      },
      "source": [
        "# **KESIMPULAN**"
      ]
    },
    {
      "cell_type": "markdown",
      "metadata": {
        "id": "tFx1uJ1ETKzy"
      },
      "source": [
        "Dataset kali ini menyajikan persebaran data yang tidak seimbang (imbalance) pada kelasnya yang cukup signifikan karena sebagian besar sampel diberi label netral, indikator sentimen menjadi lebih sedikit.\n",
        "\n",
        "Untuk meningkatkan nilai akurasi model pada training set dan testing set dan dapat lebih general persebarannya, disarankan untuk mengumpulkan lebih banyak data yang memiliki persentase label yang lebih tinggi yang menunjukkan sentimen positif atau negatif. Menambahkan lebih banyak data juga dapat memungkinkan penggunaan model nlp yang lebih baik, yang dapat membantu mengurangi waktu proses."
      ]
    }
  ]
}